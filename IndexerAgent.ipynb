{
 "cells": [
  {
   "cell_type": "code",
   "execution_count": null,
   "metadata": {},
   "outputs": [],
   "source": [
    "# %pip install --upgrade langchain langsmith langgraph langchain_openai openai python-dotenv javascript numpy genson\n",
    "%reload_ext autoreload\n",
    "%autoreload 2"
   ]
  },
  {
   "cell_type": "code",
   "execution_count": null,
   "metadata": {},
   "outputs": [],
   "source": [
    "# Setup\n",
    "from dotenv import load_dotenv\n",
    "import os\n",
    "from graph.master_graph import create_graph\n",
    "from IPython.display import Image, display\n",
    "\n",
    "# Load .env file\n",
    "load_dotenv('.env')\n",
    "\n",
    "# Set model variables\n",
    "OPENAI_BASE_URL = \"https://api.openai.com/v1\"\n",
    "OPENAI_API_KEY = os.getenv(\"OPENAI_API_KEY\")\n",
    "OPENAI_ORGANIZATION = os.getenv(\"OPENAI_ORGANIZATION\")\n",
    "\n",
    "# Set environment variables\n",
    "os.environ[\"LANGCHAIN_TRACING_V2\"] = \"true\"\n",
    "os.environ[\"LANGCHAIN_ENDPOINT\"] = \"https://api.smith.langchain.com\"\n",
    "os.environ[\"LANGCHAIN_API_KEY\"] = os.getenv(\"LANGCHAIN_API_KEY\")\n",
    "os.environ[\"LANGCHAIN_PROJECT\"] = os.getenv(\"LANGCHAIN_PROJECT\")\n",
    "\n",
    "# Create Graph\n",
    "workflow = create_graph()\n",
    "app = workflow.compile()\n",
    "display(Image(app.get_graph(xray=True).draw_mermaid_png()))"
   ]
  },
  {
   "cell_type": "code",
   "execution_count": null,
   "metadata": {},
   "outputs": [],
   "source": [
    "# Define question and invoke app\n",
    "from langchain_core.messages import HumanMessage\n",
    "\n",
    "question = \"\"\"\n",
    "    Extract all FunctionCalls where receiverId is 'app.nearcrowd.near'. For each function call, I need signerId, block height, receiptId, block datetime, methodName. \n",
    "    Also add all fields from args that are decoded from base64-encoded JSON. I only need actions for successful receipts. \n",
    "    Use block height 119688212 for parsing the JS code, and only pull data from the last 2 days.\n",
    "    \"\"\"\n",
    "\n",
    "inputs = {\n",
    "    \"messages\":[HumanMessage(content=question)],\n",
    "    \"block_schema\": \"\",\n",
    "    \"block_heights\":[], # TO DO: Add in block height logging\n",
    "    \"extract_block_data_code\":\"\",\n",
    "    \"table_creation_code\":\"\",\n",
    "    \"data_upsertion_code\": \"\",\n",
    "    \"indexer_logic\":\"\",\n",
    "    \"iterations\": 0,\n",
    "    \"error\":\"\",\n",
    "    \"should_continue\": False,\n",
    "    }\n",
    "\n",
    "# RUN MASTER APP\n",
    "result = app.invoke(inputs)\n",
    "table_creation_code = result['table_creation_code'].replace(\"\\\\n\",\"\\n\")\n",
    "extract_block_data_code = result['extract_block_data_code'].replace(\"\\\\n\",\"\\n\")\n",
    "data_upsertion_code = result['data_upsertion_code'].replace(\"\\\\n\",\"\\n\")\n",
    "indexer_logic = result['indexer_logic'].replace(\"\\\\n\",\"\\n\")"
   ]
  },
  {
   "cell_type": "code",
   "execution_count": null,
   "metadata": {},
   "outputs": [],
   "source": [
    "print(f'SQL DDL: {table_creation_code}')\n",
    "print(f'Data Upsertion Logic: {data_upsertion_code}')"
   ]
  },
  {
   "cell_type": "code",
   "execution_count": null,
   "metadata": {},
   "outputs": [],
   "source": []
  }
 ],
 "metadata": {
  "kernelspec": {
   "display_name": "Python 3",
   "language": "python",
   "name": "python3"
  },
  "language_info": {
   "codemirror_mode": {
    "name": "ipython",
    "version": 3
   },
   "file_extension": ".py",
   "mimetype": "text/x-python",
   "name": "python",
   "nbconvert_exporter": "python",
   "pygments_lexer": "ipython3",
   "version": "3.9.6"
  }
 },
 "nbformat": 4,
 "nbformat_minor": 2
}
