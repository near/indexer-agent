{
 "cells": [
  {
   "cell_type": "code",
   "metadata": {
    "ExecuteTime": {
     "end_time": "2024-05-30T19:45:26.287993Z",
     "start_time": "2024-05-30T19:45:26.244796Z"
    }
   },
   "source": [
    "#%pip install --upgrade langchain langsmith langgraph langchain_openai openai python-dotenv javascript\n",
    "# run this in terminal: python3 -m javascript --install @near-lake/primitives\n",
    "%reload_ext autoreload\n",
    "%autoreload 2"
   ],
   "outputs": [],
   "execution_count": 1
  },
  {
   "cell_type": "code",
   "metadata": {
    "ExecuteTime": {
     "end_time": "2024-05-30T19:45:27.241197Z",
     "start_time": "2024-05-30T19:45:27.015700Z"
    }
   },
   "source": [
    "from dotenv import load_dotenv\n",
    "import os\n",
    "\n",
    "# Load .env file\n",
    "load_dotenv('.env')\n",
    "\n",
    "# Set model variables\n",
    "OPENAI_BASE_URL = \"https://api.openai.com/v1\"\n",
    "OPENAI_API_KEY = os.getenv(\"OPENAI_API_KEY\")\n",
    "OPENAI_ORGANIZATION = os.getenv(\"OPENAI_ORGANIZATION\")\n",
    "\n",
    "\n",
    "os.environ[\"LANGCHAIN_TRACING_V2\"] = \"true\"\n",
    "os.environ[\"LANGCHAIN_ENDPOINT\"] = \"https://api.smith.langchain.com\"\n",
    "os.environ[\"LANGCHAIN_API_KEY\"] = os.getenv(\"LANGCHAIN_API_KEY\")\n",
    "os.environ[\"LANGCHAIN_PROJECT\"] = \"Indexer Agent Local\"\n"
   ],
   "outputs": [],
   "execution_count": 2
  },
  {
   "metadata": {},
   "cell_type": "markdown",
   "source": "# Execute the Agent"
  },
  {
   "metadata": {
    "ExecuteTime": {
     "end_time": "2024-05-30T20:02:51.316180Z",
     "start_time": "2024-05-30T20:02:51.286545Z"
    }
   },
   "cell_type": "code",
   "source": [
    "from langchain_core.messages import HumanMessage\n",
    "from graph.trivial_agent_graph import IndexerAgentGraphBuilder\n",
    "from agents.IndexerAgent import indexer_agent_model, tool_executor\n",
    "from tools.JavaScriptRunner import tool_js_on_block, tool_js_on_block_schema\n",
    "from agents.BlockExtractorAgent import block_extractor_agent_model\n",
    "import json"
   ],
   "outputs": [],
   "execution_count": 33
  },
  {
   "cell_type": "code",
   "metadata": {
    "ExecuteTime": {
     "end_time": "2024-05-30T20:03:21.075397Z",
     "start_time": "2024-05-30T20:02:52.036449Z"
    }
   },
   "source": [
    "\n",
    "\n",
    "inputs = {\n",
    "    \"messages\": [\n",
    "        HumanMessage(\n",
    "            content=\"Write code to extract all FunctionCalls where receiverId is 'app.nearcrowd.near'. For each function call, I need signerId, block height, receiptId, block datetime, methodName and args that are decoded from base64-encoded JSON. Only output JS code and no other extra information. I only need actions for successful receipts.\",\n",
    "        ),\n",
    "        HumanMessage(\n",
    "            content=\"You can use various block heights like 119688211, 119688186, 119688185 to understand the structure of the blocks by running JavaScript code using Run_Javascript_On_Block_Schema\",\n",
    "        )\n",
    "    ]\n",
    "}\n",
    "\n",
    "# Define the tools that the agent will use\n",
    "tools = [tool_js_on_block, tool_js_on_block_schema]\n",
    "model = block_extractor_agent_model(tools)\n",
    "\n",
    "# print(model.invoke(input=inputs['messages']))\n",
    "\n",
    "builder = IndexerAgentGraphBuilder(model, tool_executor(tools))\n",
    "app = builder.graph()\n",
    "\n",
    "result = app.with_config({\"run_name\": \"IndexerAgentPavel\"}).invoke(inputs)\n",
    "\n",
    "# for output in app.with_config({\"run_name\": \"IndexerAgentPavel\"}).stream(inputs):\n",
    "#     # stream() yields dictionaries with output keyed by node name\n",
    "#     for key, value in output.items():\n",
    "#         print(f\"----------------- Output from node '{key}':\")\n",
    "#         print(json.dumps(value, indent=2))\n",
    "#     print(\"\\n---\\n\")\n"
   ],
   "outputs": [],
   "execution_count": 34
  },
  {
   "metadata": {
    "ExecuteTime": {
     "end_time": "2024-05-30T20:03:44.475462Z",
     "start_time": "2024-05-30T20:03:44.452934Z"
    }
   },
   "cell_type": "code",
   "source": "result['messages'][-1]",
   "outputs": [
    {
     "data": {
      "text/plain": [
       "AIMessage(content=\"Sure, here is the JavaScript code that you can use to extract the required information:\\n\\n```javascript\\n// Importing necessary libraries\\nconst atob = require('atob');\\n\\n// Function to decode base64-encoded JSON\\nfunction decodeArgs(args) {\\n    let decodedArgs = atob(args);\\n    return JSON.parse(decodedArgs);\\n}\\n\\n// Function to extract required information\\nfunction extractFunctionCalls(block) {\\n    let result = [];\\n    let receipts = block.receipts();\\n    let header = block.header();\\n    let actions = block.actions();\\n\\n    for (let i = 0; i < receipts.length; i++) {\\n        if (receipts[i].status.SuccessValue && receipts[i].receiverId === 'app.nearcrowd.near') {\\n            for (let j = 0; j < actions.length; j++) {\\n                if (actions[j].receiptId === receipts[i].receiptId) {\\n                    let operations = actions[j].operations;\\n                    for (let k = 0; k < operations.length; k++) {\\n                        if (operations[k].FunctionCall) {\\n                            result.push({\\n                                signerId: actions[j].signerId,\\n                                blockHeight: header.height,\\n                                receiptId: actions[j].receiptId,\\n                                blockDatetime: new Date(parseInt(header.timestampNanosec) / 1000000),\\n                                methodName: operations[k].FunctionCall.methodName,\\n                                args: decodeArgs(operations[k].FunctionCall.args)\\n                            });\\n                        }\\n                    }\\n                }\\n            }\\n        }\\n    }\\n\\n    return result;\\n}\\n```\\n\\nThis code first imports the necessary libraries and defines a function to decode base64-encoded JSON. It then defines a function to extract the required information from the block. This function iterates over the receipts and actions in the block, checking if the receipt is successful and if the receiverId is 'app.nearcrowd.near'. If these conditions are met, it iterates over the operations in the action, checking if the operation is a FunctionCall. If it is, it pushes the required information to the result array. Finally, it returns the result array.\", response_metadata={'finish_reason': 'stop'}, id='run-037fd0ce-1fcd-44c0-8f42-71bda509d2ac-0')"
      ]
     },
     "execution_count": 35,
     "metadata": {},
     "output_type": "execute_result"
    }
   ],
   "execution_count": 35
  },
  {
   "cell_type": "code",
   "metadata": {},
   "source": [
    "\n",
    "from tools.JavaScriptRunner import run_js_on_block_only_schema, run_js_on_block\n",
    "code = \"\"\"\n",
    "return block.actions()\n",
    "\"\"\"\n",
    "print(json.dumps(run_js_on_block_only_schema(119688212, 'return block.actions()')))"
   ],
   "outputs": [],
   "execution_count": null
  },
  {
   "metadata": {
    "ExecuteTime": {
     "end_time": "2024-05-30T19:55:44.184586Z",
     "start_time": "2024-05-30T19:55:23.729227Z"
    }
   },
   "cell_type": "code",
   "source": [
    "from agents.BlockExtractorAgent import block_extractor_agent_model\n",
    "\n",
    "tools = []\n",
    "model = block_extractor_agent_model(tools)\n",
    "\n",
    "inputs = {\n",
    "    \"messages\": [\n",
    "        HumanMessage(\n",
    "            content=\"Write code to extract all FunctionCalls where receiverId is 'app.nearcrowd.near'. For each function call, I need signerId, block height, receiptId, block datetime, methodName and args that are decoded from base64-encoded JSON. Only output JS code and no other extra information. I only need actions for successful receipts.\",\n",
    "        )\n",
    "    ]\n",
    "}\n",
    "\n",
    "res = model.invoke(inputs['messages'])"
   ],
   "outputs": [],
   "execution_count": 18
  },
  {
   "metadata": {
    "ExecuteTime": {
     "end_time": "2024-05-30T20:00:38.009247Z",
     "start_time": "2024-05-30T20:00:37.994477Z"
    }
   },
   "cell_type": "code",
   "source": "",
   "outputs": [
    {
     "data": {
      "text/plain": [
       "AIMessage(content='', additional_kwargs={'tool_calls': [{'index': 0, 'id': 'call_hjboT7SQJojQmCMmZWKzrjM1', 'function': {'arguments': '{\\n\"js\": `\\nfunction extractFunctionCalls(block) {\\n    const actions = block.actions();\\n    const receipts = block.receipts();\\n    const header = block.header();\\n    const successfulReceipts = receipts.filter(receipt => receipt.status.SuccessValue);\\n    const functionCalls = [];\\n\\n    successfulReceipts.forEach(receipt => {\\n        actions.forEach(action => {\\n            if (action.receiptId === receipt.receiptId && action.receiverId === \\'app.nearcrowd.near\\') {\\n                action.operations.forEach(operation => {\\n                    if (operation.FunctionCall) {\\n                        const functionCall = operation.FunctionCall;\\n                        const args = JSON.parse(atob(functionCall.args));\\n                        functionCalls.push({\\n                            signerId: action.signerId,\\n                            blockHeight: header.height,\\n                            receiptId: receipt.receiptId,\\n                            blockDatetime: new Date(parseInt(header.timestampNanosec) / 1000000),\\n                            methodName: functionCall.methodName,\\n                            args: args\\n                        });\\n                    }\\n                });\\n            }\\n        });\\n    });\\n\\n    return functionCalls;\\n}\\n`,\\n\"explanation\": \"This JavaScript function first filters out the successful receipts from the block. Then it iterates over each action in the block. If the action\\'s receiptId matches the receiptId of a successful receipt and the receiverId is \\'app.nearcrowd.near\\', it further iterates over each operation in the action. If the operation is a FunctionCall, it decodes the args from base64-encoded JSON and pushes an object containing the signerId, block height, receiptId, block datetime, methodName, and decoded args to the functionCalls array. Finally, it returns the functionCalls array.\"\\n}', 'name': 'JsResponse'}, 'type': 'function'}]}, response_metadata={'finish_reason': 'tool_calls'}, id='run-897df2a1-f3b7-4165-bbda-af93940ad073-0', invalid_tool_calls=[{'name': 'JsResponse', 'args': '{\\n\"js\": `\\nfunction extractFunctionCalls(block) {\\n    const actions = block.actions();\\n    const receipts = block.receipts();\\n    const header = block.header();\\n    const successfulReceipts = receipts.filter(receipt => receipt.status.SuccessValue);\\n    const functionCalls = [];\\n\\n    successfulReceipts.forEach(receipt => {\\n        actions.forEach(action => {\\n            if (action.receiptId === receipt.receiptId && action.receiverId === \\'app.nearcrowd.near\\') {\\n                action.operations.forEach(operation => {\\n                    if (operation.FunctionCall) {\\n                        const functionCall = operation.FunctionCall;\\n                        const args = JSON.parse(atob(functionCall.args));\\n                        functionCalls.push({\\n                            signerId: action.signerId,\\n                            blockHeight: header.height,\\n                            receiptId: receipt.receiptId,\\n                            blockDatetime: new Date(parseInt(header.timestampNanosec) / 1000000),\\n                            methodName: functionCall.methodName,\\n                            args: args\\n                        });\\n                    }\\n                });\\n            }\\n        });\\n    });\\n\\n    return functionCalls;\\n}\\n`,\\n\"explanation\": \"This JavaScript function first filters out the successful receipts from the block. Then it iterates over each action in the block. If the action\\'s receiptId matches the receiptId of a successful receipt and the receiverId is \\'app.nearcrowd.near\\', it further iterates over each operation in the action. If the operation is a FunctionCall, it decodes the args from base64-encoded JSON and pushes an object containing the signerId, block height, receiptId, block datetime, methodName, and decoded args to the functionCalls array. Finally, it returns the functionCalls array.\"\\n}', 'id': 'call_hjboT7SQJojQmCMmZWKzrjM1', 'error': None}])"
      ]
     },
     "execution_count": 32,
     "metadata": {},
     "output_type": "execute_result"
    }
   ],
   "execution_count": 32
  },
  {
   "metadata": {},
   "cell_type": "markdown",
   "source": ""
  },
  {
   "metadata": {
    "ExecuteTime": {
     "end_time": "2024-05-30T19:59:16.618739Z",
     "start_time": "2024-05-30T19:59:16.576378Z"
    }
   },
   "cell_type": "code",
   "source": "json.loads(res.additional_kwargs[\"tool_calls\"][0]['function']['arguments'])",
   "outputs": [
    {
     "ename": "JSONDecodeError",
     "evalue": "Expecting value: line 2 column 7 (char 8)",
     "output_type": "error",
     "traceback": [
      "\u001B[0;31m---------------------------------------------------------------------------\u001B[0m",
      "\u001B[0;31mJSONDecodeError\u001B[0m                           Traceback (most recent call last)",
      "Cell \u001B[0;32mIn[31], line 1\u001B[0m\n\u001B[0;32m----> 1\u001B[0m \u001B[43mjson\u001B[49m\u001B[38;5;241;43m.\u001B[39;49m\u001B[43mloads\u001B[49m\u001B[43m(\u001B[49m\u001B[43mres\u001B[49m\u001B[38;5;241;43m.\u001B[39;49m\u001B[43madditional_kwargs\u001B[49m\u001B[43m[\u001B[49m\u001B[38;5;124;43m\"\u001B[39;49m\u001B[38;5;124;43mtool_calls\u001B[39;49m\u001B[38;5;124;43m\"\u001B[39;49m\u001B[43m]\u001B[49m\u001B[43m[\u001B[49m\u001B[38;5;241;43m0\u001B[39;49m\u001B[43m]\u001B[49m\u001B[43m[\u001B[49m\u001B[38;5;124;43m'\u001B[39;49m\u001B[38;5;124;43mfunction\u001B[39;49m\u001B[38;5;124;43m'\u001B[39;49m\u001B[43m]\u001B[49m\u001B[43m[\u001B[49m\u001B[38;5;124;43m'\u001B[39;49m\u001B[38;5;124;43marguments\u001B[39;49m\u001B[38;5;124;43m'\u001B[39;49m\u001B[43m]\u001B[49m\u001B[43m)\u001B[49m\n",
      "File \u001B[0;32m/opt/homebrew/Cellar/python@3.12/3.12.3/Frameworks/Python.framework/Versions/3.12/lib/python3.12/json/__init__.py:346\u001B[0m, in \u001B[0;36mloads\u001B[0;34m(s, cls, object_hook, parse_float, parse_int, parse_constant, object_pairs_hook, **kw)\u001B[0m\n\u001B[1;32m    341\u001B[0m     s \u001B[38;5;241m=\u001B[39m s\u001B[38;5;241m.\u001B[39mdecode(detect_encoding(s), \u001B[38;5;124m'\u001B[39m\u001B[38;5;124msurrogatepass\u001B[39m\u001B[38;5;124m'\u001B[39m)\n\u001B[1;32m    343\u001B[0m \u001B[38;5;28;01mif\u001B[39;00m (\u001B[38;5;28mcls\u001B[39m \u001B[38;5;129;01mis\u001B[39;00m \u001B[38;5;28;01mNone\u001B[39;00m \u001B[38;5;129;01mand\u001B[39;00m object_hook \u001B[38;5;129;01mis\u001B[39;00m \u001B[38;5;28;01mNone\u001B[39;00m \u001B[38;5;129;01mand\u001B[39;00m\n\u001B[1;32m    344\u001B[0m         parse_int \u001B[38;5;129;01mis\u001B[39;00m \u001B[38;5;28;01mNone\u001B[39;00m \u001B[38;5;129;01mand\u001B[39;00m parse_float \u001B[38;5;129;01mis\u001B[39;00m \u001B[38;5;28;01mNone\u001B[39;00m \u001B[38;5;129;01mand\u001B[39;00m\n\u001B[1;32m    345\u001B[0m         parse_constant \u001B[38;5;129;01mis\u001B[39;00m \u001B[38;5;28;01mNone\u001B[39;00m \u001B[38;5;129;01mand\u001B[39;00m object_pairs_hook \u001B[38;5;129;01mis\u001B[39;00m \u001B[38;5;28;01mNone\u001B[39;00m \u001B[38;5;129;01mand\u001B[39;00m \u001B[38;5;129;01mnot\u001B[39;00m kw):\n\u001B[0;32m--> 346\u001B[0m     \u001B[38;5;28;01mreturn\u001B[39;00m \u001B[43m_default_decoder\u001B[49m\u001B[38;5;241;43m.\u001B[39;49m\u001B[43mdecode\u001B[49m\u001B[43m(\u001B[49m\u001B[43ms\u001B[49m\u001B[43m)\u001B[49m\n\u001B[1;32m    347\u001B[0m \u001B[38;5;28;01mif\u001B[39;00m \u001B[38;5;28mcls\u001B[39m \u001B[38;5;129;01mis\u001B[39;00m \u001B[38;5;28;01mNone\u001B[39;00m:\n\u001B[1;32m    348\u001B[0m     \u001B[38;5;28mcls\u001B[39m \u001B[38;5;241m=\u001B[39m JSONDecoder\n",
      "File \u001B[0;32m/opt/homebrew/Cellar/python@3.12/3.12.3/Frameworks/Python.framework/Versions/3.12/lib/python3.12/json/decoder.py:337\u001B[0m, in \u001B[0;36mJSONDecoder.decode\u001B[0;34m(self, s, _w)\u001B[0m\n\u001B[1;32m    332\u001B[0m \u001B[38;5;28;01mdef\u001B[39;00m \u001B[38;5;21mdecode\u001B[39m(\u001B[38;5;28mself\u001B[39m, s, _w\u001B[38;5;241m=\u001B[39mWHITESPACE\u001B[38;5;241m.\u001B[39mmatch):\n\u001B[1;32m    333\u001B[0m \u001B[38;5;250m    \u001B[39m\u001B[38;5;124;03m\"\"\"Return the Python representation of ``s`` (a ``str`` instance\u001B[39;00m\n\u001B[1;32m    334\u001B[0m \u001B[38;5;124;03m    containing a JSON document).\u001B[39;00m\n\u001B[1;32m    335\u001B[0m \n\u001B[1;32m    336\u001B[0m \u001B[38;5;124;03m    \"\"\"\u001B[39;00m\n\u001B[0;32m--> 337\u001B[0m     obj, end \u001B[38;5;241m=\u001B[39m \u001B[38;5;28;43mself\u001B[39;49m\u001B[38;5;241;43m.\u001B[39;49m\u001B[43mraw_decode\u001B[49m\u001B[43m(\u001B[49m\u001B[43ms\u001B[49m\u001B[43m,\u001B[49m\u001B[43m \u001B[49m\u001B[43midx\u001B[49m\u001B[38;5;241;43m=\u001B[39;49m\u001B[43m_w\u001B[49m\u001B[43m(\u001B[49m\u001B[43ms\u001B[49m\u001B[43m,\u001B[49m\u001B[43m \u001B[49m\u001B[38;5;241;43m0\u001B[39;49m\u001B[43m)\u001B[49m\u001B[38;5;241;43m.\u001B[39;49m\u001B[43mend\u001B[49m\u001B[43m(\u001B[49m\u001B[43m)\u001B[49m\u001B[43m)\u001B[49m\n\u001B[1;32m    338\u001B[0m     end \u001B[38;5;241m=\u001B[39m _w(s, end)\u001B[38;5;241m.\u001B[39mend()\n\u001B[1;32m    339\u001B[0m     \u001B[38;5;28;01mif\u001B[39;00m end \u001B[38;5;241m!=\u001B[39m \u001B[38;5;28mlen\u001B[39m(s):\n",
      "File \u001B[0;32m/opt/homebrew/Cellar/python@3.12/3.12.3/Frameworks/Python.framework/Versions/3.12/lib/python3.12/json/decoder.py:355\u001B[0m, in \u001B[0;36mJSONDecoder.raw_decode\u001B[0;34m(self, s, idx)\u001B[0m\n\u001B[1;32m    353\u001B[0m     obj, end \u001B[38;5;241m=\u001B[39m \u001B[38;5;28mself\u001B[39m\u001B[38;5;241m.\u001B[39mscan_once(s, idx)\n\u001B[1;32m    354\u001B[0m \u001B[38;5;28;01mexcept\u001B[39;00m \u001B[38;5;167;01mStopIteration\u001B[39;00m \u001B[38;5;28;01mas\u001B[39;00m err:\n\u001B[0;32m--> 355\u001B[0m     \u001B[38;5;28;01mraise\u001B[39;00m JSONDecodeError(\u001B[38;5;124m\"\u001B[39m\u001B[38;5;124mExpecting value\u001B[39m\u001B[38;5;124m\"\u001B[39m, s, err\u001B[38;5;241m.\u001B[39mvalue) \u001B[38;5;28;01mfrom\u001B[39;00m \u001B[38;5;28;01mNone\u001B[39;00m\n\u001B[1;32m    356\u001B[0m \u001B[38;5;28;01mreturn\u001B[39;00m obj, end\n",
      "\u001B[0;31mJSONDecodeError\u001B[0m: Expecting value: line 2 column 7 (char 8)"
     ]
    }
   ],
   "execution_count": 31
  },
  {
   "metadata": {
    "ExecuteTime": {
     "end_time": "2024-05-30T19:54:22.342374Z",
     "start_time": "2024-05-30T19:54:22.255336Z"
    }
   },
   "cell_type": "code",
   "source": "res.content",
   "outputs": [
    {
     "data": {
      "text/plain": [
       "\"Here is the JavaScript code that will extract all FunctionCalls where receiverId is 'app.nearcrowd.near'. It will also decode the base64-encoded JSON args.\\n\\n```javascript\\n// Assuming block is the block object\\nfunction extractFunctionCalls(block) {\\n    const actions = block.actions();\\n    const receipts = block.receipts();\\n    const header = block.header();\\n    const blockHeight = header.height;\\n    const blockDatetime = new Date(parseInt(header.timestampNanosec) / 1000000);\\n\\n    const successfulReceipts = receipts.filter(receipt => receipt.status.SuccessValue !== undefined);\\n    const successfulReceiptIds = successfulReceipts.map(receipt => receipt.receiptId);\\n\\n    const functionCalls = actions.filter(action => {\\n        return action.receiverId === 'app.nearcrowd.near' &&\\n            successfulReceiptIds.includes(action.receiptId) &&\\n            action.operations.some(operation => operation.FunctionCall !== undefined);\\n    });\\n\\n    return functionCalls.map(functionCall => {\\n        const functionCallOperation = functionCall.operations.find(operation => operation.FunctionCall !== undefined);\\n        const args = atob(functionCallOperation.FunctionCall.args);\\n        const decodedArgs = JSON.parse(args);\\n\\n        return {\\n            signerId: functionCall.signerId,\\n            blockHeight: blockHeight,\\n            receiptId: functionCall.receiptId,\\n            blockDatetime: blockDatetime,\\n            methodName: functionCallOperation.FunctionCall.methodName,\\n            args: decodedArgs\\n        };\\n    });\\n}\\n\\n// Usage:\\n// const functionCalls = extractFunctionCalls(block);\\n// console.log(functionCalls);\\n```\\n\\nThis function first filters out the successful receipts and stores their ids. Then it filters the actions to only include those where the receiverId is 'app.nearcrowd.near', the receipt was successful, and there is a FunctionCall operation. For each of these function calls, it decodes the base64-encoded JSON args and returns an object with the signerId, block height, receiptId, block datetime, methodName, and decoded args.\""
      ]
     },
     "execution_count": 16,
     "metadata": {},
     "output_type": "execute_result"
    }
   ],
   "execution_count": 16
  },
  {
   "metadata": {},
   "cell_type": "code",
   "outputs": [],
   "execution_count": null,
   "source": ""
  }
 ],
 "metadata": {
  "kernelspec": {
   "display_name": "Python 3",
   "language": "python",
   "name": "python3"
  },
  "language_info": {
   "codemirror_mode": {
    "name": "ipython",
    "version": 3
   },
   "file_extension": ".py",
   "mimetype": "text/x-python",
   "name": "python",
   "nbconvert_exporter": "python",
   "pygments_lexer": "ipython3",
   "version": "3.12.3"
  }
 },
 "nbformat": 4,
 "nbformat_minor": 2
}
