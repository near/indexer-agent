{
 "cells": [
  {
   "cell_type": "code",
   "metadata": {
    "ExecuteTime": {
     "end_time": "2024-06-03T23:04:06.939896Z",
     "start_time": "2024-06-03T23:04:06.929824Z"
    }
   },
   "source": [
    "#%pip install --upgrade langchain langsmith langgraph langchain_openai openai python-dotenv javascript numpy\n",
    "# run this in terminal: python3 -m javascript --install @near-lake/primitives\n",
    "%reload_ext autoreload\n",
    "%autoreload 2"
   ],
   "outputs": [],
   "execution_count": 1
  },
  {
   "cell_type": "code",
   "metadata": {
    "ExecuteTime": {
     "end_time": "2024-06-03T23:04:07.580410Z",
     "start_time": "2024-06-03T23:04:06.941271Z"
    }
   },
   "source": [
    "from dotenv import load_dotenv\n",
    "import os\n",
    "from langchain_core.messages import HumanMessage\n",
    "from graph.trivial_agent_graph import IndexerAgentGraphBuilder\n",
    "from agents.IndexerAgent import indexer_agent_model, tool_executor\n",
    "from tools.JavaScriptRunner import tool_js_on_block_schema_func, tool_js_on_block_schema\n",
    "from agents.BlockExtractorAgent import run_js_on_block_only_schema\n",
    "import json\n",
    "\n",
    "# Load .env file\n",
    "load_dotenv('.env')\n",
    "\n",
    "# Set model variables\n",
    "OPENAI_BASE_URL = \"https://api.openai.com/v1\"\n",
    "OPENAI_API_KEY = os.getenv(\"OPENAI_API_KEY\")\n",
    "OPENAI_ORGANIZATION = os.getenv(\"OPENAI_ORGANIZATION\")\n",
    "\n",
    "\n",
    "os.environ[\"LANGCHAIN_TRACING_V2\"] = \"true\"\n",
    "os.environ[\"LANGCHAIN_ENDPOINT\"] = \"https://api.smith.langchain.com\"\n",
    "os.environ[\"LANGCHAIN_API_KEY\"] = os.getenv(\"LANGCHAIN_API_KEY\")\n",
    "os.environ[\"LANGCHAIN_PROJECT\"] = \"Indexer Agent Local\"\n"
   ],
   "outputs": [],
   "execution_count": 2
  },
  {
   "metadata": {},
   "cell_type": "markdown",
   "source": "# Execute Data Extractor Agent"
  },
  {
   "metadata": {
    "ExecuteTime": {
     "end_time": "2024-06-04T03:06:58.244393Z",
     "start_time": "2024-06-04T03:06:07.890032Z"
    }
   },
   "cell_type": "code",
   "source": [
    "from tools.NearLake import tool_get_block_heights\n",
    "from agents.BlockExtractorAgent import block_extractor_agent_model\n",
    "\n",
    "inputs = {\n",
    "    \"messages\": [\n",
    "        HumanMessage(\n",
    "            content=\"Extract all FunctionCalls where receiverId is 'app.nearcrowd.near'. For each function call, I need signerId, block height, receiptId, block datetime, methodName. Also add all fields from args that are decoded from base64-encoded JSON. I only need actions for successful receipts.\",\n",
    "        )\n",
    "    ]\n",
    "}\n",
    "\n",
    "# Define the tools that the agent will use\n",
    "tools = [tool_js_on_block_schema_func, tool_get_block_heights]\n",
    "model = block_extractor_agent_model(tools)\n",
    "\n",
    "builder = IndexerAgentGraphBuilder(model, tool_executor(tools))\n",
    "app = builder.graph()\n",
    "\n",
    "js_code_res = app.with_config({\"run_name\": \"TrivialGraph block_extractor_agent_model\"}).invoke(inputs)"
   ],
   "outputs": [],
   "execution_count": 69
  },
  {
   "metadata": {
    "ExecuteTime": {
     "end_time": "2024-06-03T23:54:44.714622Z",
     "start_time": "2024-06-03T23:54:43.658410Z"
    }
   },
   "cell_type": "code",
   "source": [
    "from langchain_utils import get_tool_call_arguments\n",
    "from agents.BlockExtractorAgent import JsResponse\n",
    "\n",
    "js_response = get_tool_call_arguments(js_code_res['messages'], JsResponse)\n",
    "\n",
    "js_response.js_schema"
   ],
   "outputs": [
    {
     "data": {
      "text/plain": [
       "\"{'type': 'array'}\""
      ]
     },
     "execution_count": 43,
     "metadata": {},
     "output_type": "execute_result"
    }
   ],
   "execution_count": 43
  },
  {
   "metadata": {
    "ExecuteTime": {
     "end_time": "2024-06-03T23:55:56.359573Z",
     "start_time": "2024-06-03T23:55:54.340911Z"
    }
   },
   "cell_type": "code",
   "source": [
    "from agents.DDLAgent import ddl_generator_agent_model\n",
    "\n",
    "model = ddl_generator_agent_model()\n",
    "\n",
    "inputs = {\n",
    "    \"messages\": [\n",
    "        HumanMessage(\n",
    "            content=\"Here is the schema from JS developer: \" + js_response.js_schema,\n",
    "        )\n",
    "    ]\n",
    "}\n",
    "builder = IndexerAgentGraphBuilder(model, tool_executor(tools))\n",
    "app = builder.graph()\n",
    "\n",
    "ddl_code_res = app.with_config({\"run_name\": \"Graph ddl_generator_agent_model\", \"recursion_limit\": 2}).invoke(inputs)\n"
   ],
   "outputs": [
    {
     "ename": "GraphRecursionError",
     "evalue": "Recursion limit of 2 reachedwithout hitting a stop condition. You can increase the limit by setting the `recursion_limit` config key.",
     "output_type": "error",
     "traceback": [
      "\u001B[0;31m---------------------------------------------------------------------------\u001B[0m",
      "\u001B[0;31mGraphRecursionError\u001B[0m                       Traceback (most recent call last)",
      "Cell \u001B[0;32mIn[44], line 15\u001B[0m\n\u001B[1;32m     12\u001B[0m builder \u001B[38;5;241m=\u001B[39m IndexerAgentGraphBuilder(model, tool_executor(tools))\n\u001B[1;32m     13\u001B[0m app \u001B[38;5;241m=\u001B[39m builder\u001B[38;5;241m.\u001B[39mgraph()\n\u001B[0;32m---> 15\u001B[0m ddl_code_res \u001B[38;5;241m=\u001B[39m \u001B[43mapp\u001B[49m\u001B[38;5;241;43m.\u001B[39;49m\u001B[43mwith_config\u001B[49m\u001B[43m(\u001B[49m\u001B[43m{\u001B[49m\u001B[38;5;124;43m\"\u001B[39;49m\u001B[38;5;124;43mrun_name\u001B[39;49m\u001B[38;5;124;43m\"\u001B[39;49m\u001B[43m:\u001B[49m\u001B[43m \u001B[49m\u001B[38;5;124;43m\"\u001B[39;49m\u001B[38;5;124;43mGraph ddl_generator_agent_model\u001B[39;49m\u001B[38;5;124;43m\"\u001B[39;49m\u001B[43m,\u001B[49m\u001B[43m \u001B[49m\u001B[38;5;124;43m\"\u001B[39;49m\u001B[38;5;124;43mrecursion_limit\u001B[39;49m\u001B[38;5;124;43m\"\u001B[39;49m\u001B[43m:\u001B[49m\u001B[43m \u001B[49m\u001B[38;5;241;43m2\u001B[39;49m\u001B[43m}\u001B[49m\u001B[43m)\u001B[49m\u001B[38;5;241;43m.\u001B[39;49m\u001B[43minvoke\u001B[49m\u001B[43m(\u001B[49m\u001B[43minputs\u001B[49m\u001B[43m)\u001B[49m\n",
      "File \u001B[0;32m~/sources/near/indexer-agent/.venv/lib/python3.12/site-packages/langchain_core/runnables/base.py:4427\u001B[0m, in \u001B[0;36mRunnableBindingBase.invoke\u001B[0;34m(self, input, config, **kwargs)\u001B[0m\n\u001B[1;32m   4421\u001B[0m \u001B[38;5;28;01mdef\u001B[39;00m \u001B[38;5;21minvoke\u001B[39m(\n\u001B[1;32m   4422\u001B[0m     \u001B[38;5;28mself\u001B[39m,\n\u001B[1;32m   4423\u001B[0m     \u001B[38;5;28minput\u001B[39m: Input,\n\u001B[1;32m   4424\u001B[0m     config: Optional[RunnableConfig] \u001B[38;5;241m=\u001B[39m \u001B[38;5;28;01mNone\u001B[39;00m,\n\u001B[1;32m   4425\u001B[0m     \u001B[38;5;241m*\u001B[39m\u001B[38;5;241m*\u001B[39mkwargs: Optional[Any],\n\u001B[1;32m   4426\u001B[0m ) \u001B[38;5;241m-\u001B[39m\u001B[38;5;241m>\u001B[39m Output:\n\u001B[0;32m-> 4427\u001B[0m     \u001B[38;5;28;01mreturn\u001B[39;00m \u001B[38;5;28;43mself\u001B[39;49m\u001B[38;5;241;43m.\u001B[39;49m\u001B[43mbound\u001B[49m\u001B[38;5;241;43m.\u001B[39;49m\u001B[43minvoke\u001B[49m\u001B[43m(\u001B[49m\n\u001B[1;32m   4428\u001B[0m \u001B[43m        \u001B[49m\u001B[38;5;28;43minput\u001B[39;49m\u001B[43m,\u001B[49m\n\u001B[1;32m   4429\u001B[0m \u001B[43m        \u001B[49m\u001B[38;5;28;43mself\u001B[39;49m\u001B[38;5;241;43m.\u001B[39;49m\u001B[43m_merge_configs\u001B[49m\u001B[43m(\u001B[49m\u001B[43mconfig\u001B[49m\u001B[43m)\u001B[49m\u001B[43m,\u001B[49m\n\u001B[1;32m   4430\u001B[0m \u001B[43m        \u001B[49m\u001B[38;5;241;43m*\u001B[39;49m\u001B[38;5;241;43m*\u001B[39;49m\u001B[43m{\u001B[49m\u001B[38;5;241;43m*\u001B[39;49m\u001B[38;5;241;43m*\u001B[39;49m\u001B[38;5;28;43mself\u001B[39;49m\u001B[38;5;241;43m.\u001B[39;49m\u001B[43mkwargs\u001B[49m\u001B[43m,\u001B[49m\u001B[43m \u001B[49m\u001B[38;5;241;43m*\u001B[39;49m\u001B[38;5;241;43m*\u001B[39;49m\u001B[43mkwargs\u001B[49m\u001B[43m}\u001B[49m\u001B[43m,\u001B[49m\n\u001B[1;32m   4431\u001B[0m \u001B[43m    \u001B[49m\u001B[43m)\u001B[49m\n",
      "File \u001B[0;32m~/sources/near/indexer-agent/.venv/lib/python3.12/site-packages/langgraph/pregel/__init__.py:1333\u001B[0m, in \u001B[0;36mPregel.invoke\u001B[0;34m(self, input, config, stream_mode, output_keys, input_keys, interrupt_before, interrupt_after, debug, **kwargs)\u001B[0m\n\u001B[1;32m   1331\u001B[0m \u001B[38;5;28;01melse\u001B[39;00m:\n\u001B[1;32m   1332\u001B[0m     chunks \u001B[38;5;241m=\u001B[39m []\n\u001B[0;32m-> 1333\u001B[0m \u001B[43m\u001B[49m\u001B[38;5;28;43;01mfor\u001B[39;49;00m\u001B[43m \u001B[49m\u001B[43mchunk\u001B[49m\u001B[43m \u001B[49m\u001B[38;5;129;43;01min\u001B[39;49;00m\u001B[43m \u001B[49m\u001B[38;5;28;43mself\u001B[39;49m\u001B[38;5;241;43m.\u001B[39;49m\u001B[43mstream\u001B[49m\u001B[43m(\u001B[49m\n\u001B[1;32m   1334\u001B[0m \u001B[43m    \u001B[49m\u001B[38;5;28;43minput\u001B[39;49m\u001B[43m,\u001B[49m\n\u001B[1;32m   1335\u001B[0m \u001B[43m    \u001B[49m\u001B[43mconfig\u001B[49m\u001B[43m,\u001B[49m\n\u001B[1;32m   1336\u001B[0m \u001B[43m    \u001B[49m\u001B[43mstream_mode\u001B[49m\u001B[38;5;241;43m=\u001B[39;49m\u001B[43mstream_mode\u001B[49m\u001B[43m,\u001B[49m\n\u001B[1;32m   1337\u001B[0m \u001B[43m    \u001B[49m\u001B[43moutput_keys\u001B[49m\u001B[38;5;241;43m=\u001B[39;49m\u001B[43moutput_keys\u001B[49m\u001B[43m,\u001B[49m\n\u001B[1;32m   1338\u001B[0m \u001B[43m    \u001B[49m\u001B[43minput_keys\u001B[49m\u001B[38;5;241;43m=\u001B[39;49m\u001B[43minput_keys\u001B[49m\u001B[43m,\u001B[49m\n\u001B[1;32m   1339\u001B[0m \u001B[43m    \u001B[49m\u001B[43minterrupt_before\u001B[49m\u001B[38;5;241;43m=\u001B[39;49m\u001B[43minterrupt_before\u001B[49m\u001B[43m,\u001B[49m\n\u001B[1;32m   1340\u001B[0m \u001B[43m    \u001B[49m\u001B[43minterrupt_after\u001B[49m\u001B[38;5;241;43m=\u001B[39;49m\u001B[43minterrupt_after\u001B[49m\u001B[43m,\u001B[49m\n\u001B[1;32m   1341\u001B[0m \u001B[43m    \u001B[49m\u001B[43mdebug\u001B[49m\u001B[38;5;241;43m=\u001B[39;49m\u001B[43mdebug\u001B[49m\u001B[43m,\u001B[49m\n\u001B[1;32m   1342\u001B[0m \u001B[43m    \u001B[49m\u001B[38;5;241;43m*\u001B[39;49m\u001B[38;5;241;43m*\u001B[39;49m\u001B[43mkwargs\u001B[49m\u001B[43m,\u001B[49m\n\u001B[1;32m   1343\u001B[0m \u001B[43m\u001B[49m\u001B[43m)\u001B[49m\u001B[43m:\u001B[49m\n\u001B[1;32m   1344\u001B[0m \u001B[43m    \u001B[49m\u001B[38;5;28;43;01mif\u001B[39;49;00m\u001B[43m \u001B[49m\u001B[43mstream_mode\u001B[49m\u001B[43m \u001B[49m\u001B[38;5;241;43m==\u001B[39;49m\u001B[43m \u001B[49m\u001B[38;5;124;43m\"\u001B[39;49m\u001B[38;5;124;43mvalues\u001B[39;49m\u001B[38;5;124;43m\"\u001B[39;49m\u001B[43m:\u001B[49m\n\u001B[1;32m   1345\u001B[0m \u001B[43m        \u001B[49m\u001B[43mlatest\u001B[49m\u001B[43m \u001B[49m\u001B[38;5;241;43m=\u001B[39;49m\u001B[43m \u001B[49m\u001B[43mchunk\u001B[49m\n",
      "File \u001B[0;32m~/sources/near/indexer-agent/.venv/lib/python3.12/site-packages/langgraph/pregel/__init__.py:968\u001B[0m, in \u001B[0;36mPregel.stream\u001B[0;34m(self, input, config, stream_mode, output_keys, input_keys, interrupt_before, interrupt_after, debug)\u001B[0m\n\u001B[1;32m    966\u001B[0m         \u001B[38;5;28;01mbreak\u001B[39;00m\n\u001B[1;32m    967\u001B[0m \u001B[38;5;28;01melse\u001B[39;00m:\n\u001B[0;32m--> 968\u001B[0m     \u001B[38;5;28;01mraise\u001B[39;00m GraphRecursionError(\n\u001B[1;32m    969\u001B[0m         \u001B[38;5;124mf\u001B[39m\u001B[38;5;124m\"\u001B[39m\u001B[38;5;124mRecursion limit of \u001B[39m\u001B[38;5;132;01m{\u001B[39;00mconfig[\u001B[38;5;124m'\u001B[39m\u001B[38;5;124mrecursion_limit\u001B[39m\u001B[38;5;124m'\u001B[39m]\u001B[38;5;132;01m}\u001B[39;00m\u001B[38;5;124m reached\u001B[39m\u001B[38;5;124m\"\u001B[39m\n\u001B[1;32m    970\u001B[0m         \u001B[38;5;124m\"\u001B[39m\u001B[38;5;124mwithout hitting a stop condition. You can increase the \u001B[39m\u001B[38;5;124m\"\u001B[39m\n\u001B[1;32m    971\u001B[0m         \u001B[38;5;124m\"\u001B[39m\u001B[38;5;124mlimit by setting the `recursion_limit` config key.\u001B[39m\u001B[38;5;124m\"\u001B[39m\n\u001B[1;32m    972\u001B[0m     )\n\u001B[1;32m    974\u001B[0m \u001B[38;5;66;03m# set final channel values as run output\u001B[39;00m\n\u001B[1;32m    975\u001B[0m run_manager\u001B[38;5;241m.\u001B[39mon_chain_end(read_channels(channels, output_keys))\n",
      "\u001B[0;31mGraphRecursionError\u001B[0m: Recursion limit of 2 reachedwithout hitting a stop condition. You can increase the limit by setting the `recursion_limit` config key."
     ]
    }
   ],
   "execution_count": 44
  },
  {
   "metadata": {
    "ExecuteTime": {
     "end_time": "2024-06-03T23:18:51.873798Z",
     "start_time": "2024-06-03T23:18:51.822139Z"
    }
   },
   "cell_type": "code",
   "source": "ddl_code_res",
   "outputs": [
    {
     "data": {
      "text/plain": [
       "{'messages': [HumanMessage(content=\"Here is the schema from JS developer: {'type': 'array', 'items': {'type': 'object', 'properties': {'signerId': {'type': 'string'}, 'blockHeight': {'type': 'integer'}, 'receiptId': {'type': 'string'}, 'blockDatetime': {'type': 'string'}, 'methodName': {'type': 'string'}, 'task_ordinal': {'type': 'integer'}, 'task_hash': {'type': 'array', 'items': {'type': 'integer'}}}}}\"),\n",
       "  AIMessage(content='Based on the provided schema, the DDL script for creating a table in a Postgres database would be:\\n\\n```sql\\nCREATE TABLE blocks (\\n    signer_id VARCHAR(255),\\n    block_height INTEGER,\\n    receipt_id VARCHAR(255),\\n    block_datetime TIMESTAMP,\\n    method_name VARCHAR(255),\\n    task_ordinal INTEGER,\\n    task_hash INTEGER[]\\n);\\n```\\n\\nThis script creates a table named `blocks` with the following columns:\\n\\n- `signer_id` of type `VARCHAR(255)`\\n- `block_height` of type `INTEGER`\\n- `receipt_id` of type `VARCHAR(255)`\\n- `block_datetime` of type `TIMESTAMP`\\n- `method_name` of type `VARCHAR(255)`\\n- `task_ordinal` of type `INTEGER`\\n- `task_hash` of type `INTEGER[]` (an array of integers)\\n\\nNow, let\\'s put this into the `DDLAgentResponse` format:\\n\\n```javascript\\n{\\n  \"ddl\": \"CREATE TABLE blocks (\\\\\\\\n    signer_id VARCHAR(255),\\\\\\\\n    block_height INTEGER,\\\\\\\\n    receipt_id VARCHAR(255),\\\\\\\\n    block_datetime TIMESTAMP,\\\\\\\\n    method_name VARCHAR(255),\\\\\\\\n    task_ordinal INTEGER,\\\\\\\\n    task_hash INTEGER[]\\\\\\\\n);\",\\n  \"explanation\": \"The DDL script creates a table named blocks with columns corresponding to the provided schema. Each field name has been converted to snake case, and the data types have been mapped from the schema to Postgres data types.\"\\n}\\n```\\n\\nHere is the final function:\\n\\n```javascript\\nfunction DDLAgentResponse(_) {\\n  return {\\n    ddl: \"CREATE TABLE blocks (\\\\\\\\n    signer_id VARCHAR(255),\\\\\\\\n    block_height INTEGER,\\\\\\\\n    receipt_id VARCHAR(255),\\\\\\\\n    block_datetime TIMESTAMP,\\\\\\\\n    method_name VARCHAR(255),\\\\\\\\n    task_ordinal INTEGER,\\\\\\\\n    task_hash INTEGER[]\\\\\\\\n);\",\\n    explanation: \"The DDL script creates a table named blocks with columns corresponding to the provided schema. Each field name has been converted to snake case, and the data types have been mapped from the schema to Postgres data types.\"\\n  };\\n}\\n```', response_metadata={'finish_reason': 'stop'}, id='run-e38a4f4a-b4e3-4233-8df0-5b0f280dc1c8-0')]}"
      ]
     },
     "execution_count": 26,
     "metadata": {},
     "output_type": "execute_result"
    }
   ],
   "execution_count": 26
  },
  {
   "metadata": {
    "ExecuteTime": {
     "end_time": "2024-06-03T23:19:28.122936Z",
     "start_time": "2024-06-03T23:19:28.046089Z"
    }
   },
   "cell_type": "code",
   "source": [
    "from agents.DDLAgent import DDLAgentResponse\n",
    "\n",
    "ddl_response = get_tool_call_arguments(ddl_code_res['messages'], DDLAgentResponse)\n",
    "print(ddl_response)"
   ],
   "outputs": [
    {
     "ename": "KeyError",
     "evalue": "'tool_calls'",
     "output_type": "error",
     "traceback": [
      "\u001B[0;31m---------------------------------------------------------------------------\u001B[0m",
      "\u001B[0;31mKeyError\u001B[0m                                  Traceback (most recent call last)",
      "Cell \u001B[0;32mIn[27], line 3\u001B[0m\n\u001B[1;32m      1\u001B[0m \u001B[38;5;28;01mfrom\u001B[39;00m \u001B[38;5;21;01magents\u001B[39;00m\u001B[38;5;21;01m.\u001B[39;00m\u001B[38;5;21;01mDDLAgent\u001B[39;00m \u001B[38;5;28;01mimport\u001B[39;00m DDLAgentResponse\n\u001B[0;32m----> 3\u001B[0m ddl_response \u001B[38;5;241m=\u001B[39m \u001B[43mget_tool_call_arguments\u001B[49m\u001B[43m(\u001B[49m\u001B[43mddl_code_res\u001B[49m\u001B[43m[\u001B[49m\u001B[38;5;124;43m'\u001B[39;49m\u001B[38;5;124;43mmessages\u001B[39;49m\u001B[38;5;124;43m'\u001B[39;49m\u001B[43m]\u001B[49m\u001B[43m,\u001B[49m\u001B[43m \u001B[49m\u001B[43mDDLAgentResponse\u001B[49m\u001B[43m)\u001B[49m\n\u001B[1;32m      4\u001B[0m \u001B[38;5;28mprint\u001B[39m(ddl_response)\n",
      "File \u001B[0;32m~/sources/near/indexer-agent/langchain_utils.py:4\u001B[0m, in \u001B[0;36mget_tool_call_arguments\u001B[0;34m(messages, cls, message_index)\u001B[0m\n\u001B[1;32m      2\u001B[0m \u001B[38;5;28;01mdef\u001B[39;00m \u001B[38;5;21mget_tool_call_arguments\u001B[39m(messages, \u001B[38;5;28mcls\u001B[39m, message_index\u001B[38;5;241m=\u001B[39m\u001B[38;5;241m-\u001B[39m\u001B[38;5;241m1\u001B[39m):\n\u001B[1;32m      3\u001B[0m     message \u001B[38;5;241m=\u001B[39m messages[message_index]\n\u001B[0;32m----> 4\u001B[0m     tool_calls \u001B[38;5;241m=\u001B[39m \u001B[43mmessage\u001B[49m\u001B[38;5;241;43m.\u001B[39;49m\u001B[43madditional_kwargs\u001B[49m\u001B[43m[\u001B[49m\u001B[38;5;124;43m\"\u001B[39;49m\u001B[38;5;124;43mtool_calls\u001B[39;49m\u001B[38;5;124;43m\"\u001B[39;49m\u001B[43m]\u001B[49m\n\u001B[1;32m      5\u001B[0m     args \u001B[38;5;241m=\u001B[39m [\u001B[38;5;28mcls\u001B[39m\u001B[38;5;241m.\u001B[39mparse_raw(tool_call[\u001B[38;5;124m\"\u001B[39m\u001B[38;5;124mfunction\u001B[39m\u001B[38;5;124m\"\u001B[39m][\u001B[38;5;124m\"\u001B[39m\u001B[38;5;124marguments\u001B[39m\u001B[38;5;124m\"\u001B[39m]) \u001B[38;5;28;01mfor\u001B[39;00m tool_call \u001B[38;5;129;01min\u001B[39;00m tool_calls \u001B[38;5;28;01mif\u001B[39;00m\n\u001B[1;32m      6\u001B[0m             tool_call[\u001B[38;5;124m\"\u001B[39m\u001B[38;5;124mfunction\u001B[39m\u001B[38;5;124m\"\u001B[39m][\u001B[38;5;124m\"\u001B[39m\u001B[38;5;124mname\u001B[39m\u001B[38;5;124m\"\u001B[39m] \u001B[38;5;241m==\u001B[39m \u001B[38;5;28mcls\u001B[39m\u001B[38;5;241m.\u001B[39m\u001B[38;5;18m__name__\u001B[39m]\n\u001B[1;32m      7\u001B[0m     \u001B[38;5;28;01mreturn\u001B[39;00m args[\u001B[38;5;241m0\u001B[39m]\n",
      "\u001B[0;31mKeyError\u001B[0m: 'tool_calls'"
     ]
    }
   ],
   "execution_count": 27
  },
  {
   "metadata": {},
   "cell_type": "markdown",
   "source": [
    "# Scratchpad\n",
    "Cells below are for testing and debugging"
   ]
  },
  {
   "metadata": {
    "ExecuteTime": {
     "end_time": "2024-06-04T02:59:22.241873Z",
     "start_time": "2024-06-04T02:59:20.215155Z"
    }
   },
   "cell_type": "code",
   "source": [
    "from tools.JavaScriptRunner import fetch_block, get_function_calls_from_block\n",
    "from tools.contract_block_heights import get_block_heights\n",
    "\n",
    "block_heights = get_block_heights(\"pool.near\", 5)\n",
    "\n",
    "block_heights\n",
    "\n",
    "get_function_calls_from_block(block_heights[0], 'pool.near')\n"
   ],
   "outputs": [
    {
     "data": {
      "text/plain": [
       "'[{\"args\": \"{\\\\\"staking_pool_id\\\\\":\\\\\"nearone.pool.near\\\\\",\\\\\"owner_id\\\\\":\\\\\"\\\\\",\\\\\"stake_public_key\\\\\":\\\\\"ed25519:HYRRAMtyXPCVHdyk89WsRyrirbUKXe7CBmLfFzZGSwtm\\\\\",\\\\\"reward_fee_fraction\\\\\":{\\\\\"numerator\\\\\":10,\\\\\"denominator\\\\\":100}}\", \"deposit\": \"4000000000000000000000000\", \"gas\": 300000000000000, \"methodName\": \"create_staking_pool\"}]'"
      ]
     },
     "execution_count": 68,
     "metadata": {},
     "output_type": "execute_result"
    }
   ],
   "execution_count": 68
  },
  {
   "metadata": {
    "ExecuteTime": {
     "end_time": "2024-06-03T23:41:27.867438Z",
     "start_time": "2024-06-03T23:41:27.015960Z"
    }
   },
   "cell_type": "code",
   "source": [
    "\n",
    "from tools.JavaScriptRunner import run_js_on_block_only_schema, run_js_on_block\n",
    "code = \"\"\"\n",
    "function extractData(block) {\n",
    "    const actions = block.actions();\n",
    "    const receipts = block.receipts();\n",
    "    const header = block.header();\n",
    "\n",
    "    const successfulReceipts = receipts.filter(receipt => receipt.status.SuccessValue);\n",
    "    const filteredActions = actions.filter(action => action.receiverId === 'app.nearcrowd.near' && action.operations.some(op => op.FunctionCall));\n",
    "\n",
    "    const result = [];\n",
    "\n",
    "    for (const action of filteredActions) {\n",
    "      for (const operation of action.operations) {\n",
    "        if (operation.FunctionCall) {\n",
    "          const receipt = receipts.find(receipt => receipt.receiptId === action.receiptId);\n",
    "          if (receipt) {\n",
    "            const args = JSON.parse(atob(operation.FunctionCall.args));\n",
    "            result.push({\n",
    "              signerId: action.signerId,\n",
    "              blockHeight: header.height,\n",
    "              receiptId: action.receiptId,\n",
    "              receipt: receipt,\n",
    "              blockDatetime: new Date(parseInt(header.timestampNanosec) / 1000000),\n",
    "              methodName: operation.FunctionCall.methodName,\n",
    "              ...args\n",
    "            });\n",
    "          }\n",
    "        }\n",
    "      }\n",
    "    }\n",
    "\n",
    "    return result;\n",
    "  }\n",
    "  return extractData(block);\n",
    "\"\"\"\n",
    "print(json.dumps(run_js_on_block(119688212, code)))"
   ],
   "outputs": [
    {
     "name": "stdout",
     "output_type": "stream",
     "text": [
      "\"('evaluateWithContext', 'SyntaxError: Invalid or unexpected token\\\\n    at Object.evaluateWithContext (/Users/pavel-near/sources/near/indexer-agent/.venv/lib/python3.12/site-packages/javascript/js/bridge.js:70:29)\\\\n    at Bridge.call (/Users/pavel-near/sources/near/indexer-agent/.venv/lib/python3.12/site-packages/javascript/js/bridge.js:136:42)\\\\n    at Bridge.onMessage (/Users/pavel-near/sources/near/indexer-agent/.venv/lib/python3.12/site-packages/javascript/js/bridge.js:231:25)\\\\n    at Socket.<anonymous> (/Users/pavel-near/sources/near/indexer-agent/.venv/lib/python3.12/site-packages/javascript/js/bridge.js:292:18)\\\\n    at Socket.emit (node:events:514:28)\\\\n    at addChunk (node:internal/streams/readable:324:12)\\\\n    at readableAddChunk (node:internal/streams/readable:297:9)\\\\n    at Readable.push (node:internal/streams/readable:234:10)\\\\n    at Pipe.onStreamRead (node:internal/stream_base_commons:190:23)')\"\n"
     ]
    }
   ],
   "execution_count": 41
  },
  {
   "metadata": {},
   "cell_type": "markdown",
   "source": ""
  }
 ],
 "metadata": {
  "kernelspec": {
   "display_name": "Python 3",
   "language": "python",
   "name": "python3"
  },
  "language_info": {
   "codemirror_mode": {
    "name": "ipython",
    "version": 3
   },
   "file_extension": ".py",
   "mimetype": "text/x-python",
   "name": "python",
   "nbconvert_exporter": "python",
   "pygments_lexer": "ipython3",
   "version": "3.12.3"
  }
 },
 "nbformat": 4,
 "nbformat_minor": 2
}
