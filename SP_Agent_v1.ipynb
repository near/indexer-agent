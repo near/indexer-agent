{
 "cells": [
  {
   "cell_type": "code",
   "execution_count": 1,
   "metadata": {},
   "outputs": [],
   "source": [
    "%reload_ext autoreload\n",
    "%autoreload 2"
   ]
  },
  {
   "cell_type": "code",
   "execution_count": 2,
   "metadata": {},
   "outputs": [],
   "source": [
    "# Setup\n",
    "from dotenv import load_dotenv\n",
    "import os\n",
    "\n",
    "# Load .env file\n",
    "load_dotenv('.env')\n",
    "\n",
    "# Set model variables\n",
    "OPENAI_BASE_URL = \"https://api.openai.com/v1\"\n",
    "OPENAI_API_KEY = os.getenv(\"OPENAI_API_KEY\")\n",
    "OPENAI_ORGANIZATION = os.getenv(\"OPENAI_ORGANIZATION\")\n",
    "\n",
    "\n",
    "os.environ[\"LANGCHAIN_TRACING_V2\"] = \"true\"\n",
    "os.environ[\"LANGCHAIN_ENDPOINT\"] = \"https://api.smith.langchain.com\"\n",
    "os.environ[\"LANGCHAIN_API_KEY\"] = os.getenv(\"LANGCHAIN_API_KEY\")\n",
    "os.environ[\"LANGCHAIN_PROJECT\"] = os.getenv(\"LANGCHAIN_PROJECT\")"
   ]
  },
  {
   "cell_type": "code",
   "execution_count": 3,
   "metadata": {},
   "outputs": [
    {
     "name": "stderr",
     "output_type": "stream",
     "text": [
      "/Users/spark_near/Library/Python/3.9/lib/python/site-packages/urllib3/__init__.py:35: NotOpenSSLWarning: urllib3 v2 only supports OpenSSL 1.1.1+, currently the 'ssl' module is compiled with 'LibreSSL 2.8.3'. See: https://github.com/urllib3/urllib3/issues/3020\n",
      "  warnings.warn(\n"
     ]
    }
   ],
   "source": [
    "from typing import TypedDict, Sequence\n",
    "from langchain_core.messages import BaseMessage\n",
    "\n",
    "# Define Graphstate\n",
    "class GraphState(TypedDict):\n",
    "    \"\"\"\n",
    "    Represents the state of our graph.\n",
    "\n",
    "    Attributes:\n",
    "        error : Binary flag for control flow to indicate whether test error was tripped\n",
    "        messages : With user question, error messages, reasoning\n",
    "        schema : Generated schema from json\n",
    "        iterations : Number of tries\n",
    "    \"\"\"\n",
    "\n",
    "    error: str\n",
    "    messages: Sequence[BaseMessage] #changed from List\n",
    "    block_schema: str\n",
    "    iterations: int\n",
    "\n",
    "    # messages: Sequence[BaseMessage] # TESTING"
   ]
  },
  {
   "cell_type": "code",
   "execution_count": 8,
   "metadata": {},
   "outputs": [],
   "source": [
    "# Load agents\n",
    "from agents.planner import PlannerAgent, planner_init\n",
    "from tools.JavaScriptRunner import tool_js_on_block, tool_js_on_block_schema\n",
    "from langgraph.prebuilt import ToolExecutor\n",
    "\n",
    "tools = [tool_js_on_block, tool_js_on_block_schema]\n",
    "planner_model = planner_init(tools) \n",
    "planner = PlannerAgent(planner_model,ToolExecutor(tools))"
   ]
  },
  {
   "cell_type": "code",
   "execution_count": 9,
   "metadata": {},
   "outputs": [],
   "source": [
    "# Conditional Edge logic\n",
    "def should_tool_continue(state):\n",
    "    messages = state['messages']\n",
    "    block_schema = state['block_schema']\n",
    "    last_message = messages[-1]\n",
    "    iterations = state['iterations']\n",
    "    if iterations > 3:\n",
    "        return \"end\"\n",
    "    elif block_schema == \"\":\n",
    "        return \"continue\"\n",
    "    elif \"function_call\" not in last_message.additional_kwargs:\n",
    "        return \"end\"\n",
    "    elif last_message.additional_kwargs['function_call']['name']=='Response':\n",
    "        return \"end\"   \n",
    "    else:\n",
    "        return \"end\""
   ]
  },
  {
   "cell_type": "code",
   "execution_count": 10,
   "metadata": {},
   "outputs": [],
   "source": [
    "## Create Final Graph (will move this to another file ultimately)\n",
    "from langgraph.graph import END, StateGraph\n",
    "\n",
    "workflow = StateGraph(GraphState)\n",
    "\n",
    "## Define the Agent nodes\n",
    "workflow.add_node(\"planner\", planner.plan_execution)  # Plan the process\n",
    "# workflow.add_node(\"coder\", coder)  # Codes what the planner directs\n",
    "# workflow.add_node(\"reviewer\", reviewer)  # Reviews the code\n",
    "\n",
    "# Add human-in-the-loop node\n",
    "workflow.add_node(\"human_review\",planner.human_review)\n",
    "\n",
    "## Define the Tool nodes\n",
    "# workflow.add_node(\"query_blocks\", planner.query_blocks)  # Tool to query blocks, skipped for now\n",
    "workflow.add_node(\"get_block_schema\", planner.get_block_schema)  # Tool to infer block schema\n",
    "# workflow.add_node(\"test_code\", reviewer.test_code)  # Tool to test code, skipped for now\n",
    "\n",
    "## Add Edges\n",
    "workflow.set_entry_point(\"planner\")\n",
    "# workflow.add_edge(\"query_blocks\", \"planner\") # skip for now\n",
    "workflow.add_edge(\"get_block_schema\", \"human_review\")\n",
    "workflow.add_edge(\"human_review\", \"planner\")\n",
    "# workflow.add_edge(\"coder\", \"reviewer\")\n",
    "# workflow.add_edge(\"test_code\", \"reviewer\") # skip for now\n",
    "\n",
    "# Add Conditional Edges\n",
    "# Check if we should grab block schema from the planner node\n",
    "workflow.add_conditional_edges(\n",
    "    \"planner\",\n",
    "    should_tool_continue,\n",
    "    {\n",
    "        \"continue\":\"get_block_schema\",\n",
    "        \"end\": END\n",
    "    }   \n",
    ")\n",
    "\n",
    "app = workflow.compile()"
   ]
  },
  {
   "cell_type": "code",
   "execution_count": 11,
   "metadata": {},
   "outputs": [],
   "source": [
    "from langchain_core.messages import HumanMessage\n",
    "\n",
    "question = \"Build me an indexer on NEAR Blockchain for the receiver app.nearcrowd.near using block height 119688212\"\n",
    "result = app.invoke({\"messages\": [(\"user\", question)], \"block_schema\": \"\", \"iterations\": 0})"
   ]
  },
  {
   "cell_type": "code",
   "execution_count": 16,
   "metadata": {},
   "outputs": [
    {
     "data": {
      "text/plain": [
       "{'error': 'Block schema is incorrect. Please review and try again',\n",
       " 'messages': [('user',\n",
       "   'Build me an indexer on NEAR Blockchain for the receiver app.nearcrowd.near using block height 119688212'),\n",
       "  AIMessage(content=\"To build an indexer for the `app.nearcrowd.near` smart contract using block height 119688212, we will follow the steps outlined in the NEAR QueryAPI documentation. We will write custom logic in the `indexingLogic.js` file to extract and save relevant data to a GraphQL database defined in the `schema.sql` file.\\n\\nHere is the plan to create the indexer:\\n\\n1. **Extract Data from Block 119688212**:\\n   - Use JavaScript code to extract relevant data from the block at height 119688212.\\n   - Test the JavaScript code to ensure it works correctly.\\n\\n2. **Define Indexing Logic**:\\n   - Write custom logic in the `indexingLogic.js` file to filter, transform, and save the extracted data.\\n   - Use the extracted data to commit to the database.\\n\\n3. **Define Database Schema**:\\n   - Create tables in the `schema.sql` file to store the extracted data.\\n   - Define the structure of the database schema to match the data to be saved.\\n\\n4. **Publish Indexer**:\\n   - Configure the Indexer name, start block, and contract filter.\\n   - Choose to start from block height 119688212.\\n\\n5. **Verify and Query Data**:\\n   - Use the GraphQL endpoint to query and verify the saved data.\\n\\nLet's start by extracting data from block height 119688212 to understand the structure and content of the block.\", additional_kwargs={'tool_calls': [{'index': 0, 'id': 'call_rm5OsKCpBrN5ZDxJzsHOKbto', 'function': {'arguments': '{\"block_height\":119688212,\"js\":\"return block.transactions().map(tx => ({ sender: tx.signerId, receiver: tx.receiverId, amount: tx.actions[0].transfer.amount }))\"}', 'name': 'Run_Javascript_On_Block_Schema'}, 'type': 'function'}]}, response_metadata={'finish_reason': 'tool_calls'}, id='run-635ab798-3421-49bb-a5bc-389cd9ba5a5b-0', tool_calls=[{'name': 'Run_Javascript_On_Block_Schema', 'args': {'block_height': 119688212, 'js': 'return block.transactions().map(tx => ({ sender: tx.signerId, receiver: tx.receiverId, amount: tx.actions[0].transfer.amount }))'}, 'id': 'call_rm5OsKCpBrN5ZDxJzsHOKbto'}]),\n",
       "  ToolMessage(content=\"('evaluateWithContext', 'TypeError: block.transactions is not a function\\\\n    at eval (eval at evaluateWithContext (/Users/spark_near/Library/Python/3.9/lib/python/site-packages/javascript/js/bridge.js:70:24), <anonymous>:1:82)\\\\n    at eval (eval at evaluateWithContext (/Users/spark_near/Library/Python/3.9/lib/python/site-packages/javascript/js/bridge.js:70:24), <anonymous>:1:200)\\\\n    at Object.evaluateWithContext (/Users/spark_near/Library/Python/3.9/lib/python/site-packages/javascript/js/bridge.js:70:24)\\\\n    at Bridge.call (/Users/spark_near/Library/Python/3.9/lib/python/site-packages/javascript/js/bridge.js:136:42)\\\\n    at Bridge.onMessage (/Users/spark_near/Library/Python/3.9/lib/python/site-packages/javascript/js/bridge.js:231:25)\\\\n    at Socket.<anonymous> (/Users/spark_near/Library/Python/3.9/lib/python/site-packages/javascript/js/bridge.js:292:18)\\\\n    at Socket.emit (node:events:520:28)\\\\n    at addChunk (node:internal/streams/readable:559:12)\\\\n    at readableAddChunkPushByteMode (node:internal/streams/readable:510:3)\\\\n    at Readable.push (node:internal/streams/readable:390:5)')\", name='Run_Javascript_On_Block_Schema', tool_call_id='call_rm5OsKCpBrN5ZDxJzsHOKbto'),\n",
       "  'use block.actionRetry using tool Run_Javascript_On_Block_Schema with the updated javascript call',\n",
       "  AIMessage(content='', additional_kwargs={'tool_calls': [{'index': 0, 'id': 'call_339qrB6F751jCAeYAv3ZPDQZ', 'function': {'arguments': '{\"block_height\":119688212,\"js\":\"return block.actions().filter(a => a.receiverId === \\'app.nearcrowd.near\\').map(a => ({ sender: a.signerId, receiver: a.receiverId, amount: a.actions[0].transfer.amount }))\"}', 'name': 'Run_Javascript_On_Block_Schema'}, 'type': 'function'}]}, response_metadata={'finish_reason': 'tool_calls'}, id='run-02a69299-c0c9-418b-95d4-4877ab55fd37-0', tool_calls=[{'name': 'Run_Javascript_On_Block_Schema', 'args': {'block_height': 119688212, 'js': \"return block.actions().filter(a => a.receiverId === 'app.nearcrowd.near').map(a => ({ sender: a.signerId, receiver: a.receiverId, amount: a.actions[0].transfer.amount }))\"}, 'id': 'call_339qrB6F751jCAeYAv3ZPDQZ'}]),\n",
       "  ToolMessage(content='(\\'evaluateWithContext\\', \"TypeError: Cannot read properties of undefined (reading \\'0\\')\\\\n    at eval (eval at evaluateWithContext (/Users/spark_near/Library/Python/3.9/lib/python/site-packages/javascript/js/bridge.js:70:24), <anonymous>:1:216)\\\\n    at Array.map (<anonymous>)\\\\n    at eval (eval at evaluateWithContext (/Users/spark_near/Library/Python/3.9/lib/python/site-packages/javascript/js/bridge.js:70:24), <anonymous>:1:143)\\\\n    at eval (eval at evaluateWithContext (/Users/spark_near/Library/Python/3.9/lib/python/site-packages/javascript/js/bridge.js:70:24), <anonymous>:1:242)\\\\n    at Object.evaluateWithContext (/Users/spark_near/Library/Python/3.9/lib/python/site-packages/javascript/js/bridge.js:70:24)\\\\n    at Bridge.call (/Users/spark_near/Library/Python/3.9/lib/python/site-packages/javascript/js/bridge.js:136:42)\\\\n    at Bridge.onMessage (/Users/spark_near/Library/Python/3.9/lib/python/site-packages/javascript/js/bridge.js:231:25)\\\\n    at Socket.<anonymous> (/Users/spark_near/Library/Python/3.9/lib/python/site-packages/javascript/js/bridge.js:292:18)\\\\n    at Socket.emit (node:events:520:28)\\\\n    at addChunk (node:internal/streams/readable:559:12)\")', name='Run_Javascript_On_Block_Schema', tool_call_id='call_339qrB6F751jCAeYAv3ZPDQZ'),\n",
       "  \"use return block.actions()             .filter(a => a.receiverId==='receiver.near')             .flatMap(a => a.operations.filter(op => !!op.FunctionCall)).map(op => op.FunctionCall)Retry using tool Run_Javascript_On_Block_Schema with the updated javascript call\",\n",
       "  AIMessage(content='', additional_kwargs={'tool_calls': [{'index': 0, 'id': 'call_4GGyDDghDBGxq0ye9pQempMc', 'function': {'arguments': '{\"block_height\":119688212,\"js\":\"return block.actions().filter(a => a.receiverId === \\'app.nearcrowd.near\\').flatMap(a => a.operations.filter(op => !!op.FunctionCall)).map(op => op.FunctionCall)\"}', 'name': 'Run_Javascript_On_Block_Schema'}, 'type': 'function'}]}, response_metadata={'finish_reason': 'tool_calls'}, id='run-a8c14da7-6fe4-45d0-a7ff-8f2c487b8ae5-0', tool_calls=[{'name': 'Run_Javascript_On_Block_Schema', 'args': {'block_height': 119688212, 'js': \"return block.actions().filter(a => a.receiverId === 'app.nearcrowd.near').flatMap(a => a.operations.filter(op => !!op.FunctionCall)).map(op => op.FunctionCall)\"}, 'id': 'call_4GGyDDghDBGxq0ye9pQempMc'}]),\n",
       "  ToolMessage(content=\"[{'args': 'eyJ0YXNrX29yZGluYWwiOjEsInRhc2tfaGFzaCI6WzcyLDcxLDk5LDYsMTkyLDEyNSwxNzksMTE3LDU2LDIyOSwxMzQsMTcxLDE2NCwxMTMsMjAyLDIyNCwxMzQsOTQsMTI4LDE2NCwxNzksMTYsMjYsMjE5LDUsMjEzLDMyLDgwLDEwOCwxNDUsMjQ0LDE2OV19', 'deposit': '0', 'gas': 200000000000000, 'methodName': 'finalize_challenged_task'}]\", name='Run_Javascript_On_Block_Schema', tool_call_id='call_4GGyDDghDBGxq0ye9pQempMc'),\n",
       "  AIMessage(content=\"The JavaScript code to extract relevant data from block height 119688212 for the `app.nearcrowd.near` smart contract is returning the function calls made in the block. Here is an example of a function call extracted from the block:\\n\\n- Function Call: `finalize_challenged_task`\\n\\nNow, we can proceed with creating the indexer by defining the indexing logic in the `indexingLogic.js` file and the database schema in the `schema.sql` file based on the extracted data.\\n\\nLet's move forward with creating the indexer following the outlined steps.\\nHere is the plan to create the indexer for the `app.nearcrowd.near` smart contract using block height 119688212:\\n\\n1. **Extracted Data**:\\n   - Function Call: `finalize_challenged_task`\\n\\n2. **Define Indexing Logic**:\\n   - Write custom logic in the `indexingLogic.js` file to filter, transform, and save the extracted data.\\n   - Use the extracted data to commit to the database.\\n\\n3. **Define Database Schema**:\\n   - Create tables in the `schema.sql` file to store the extracted data.\\n   - Define the structure of the database schema to match the data to be saved.\\n\\n4. **Publish Indexer**:\\n   - Configure the Indexer name, start block, and contract filter.\\n   - Choose to start from block height 119688212.\\n\\n5. **Verify and Query Data**:\\n   - Use the GraphQL endpoint to query and verify the saved data.\\n\\nLet's proceed with creating the indexing logic in the `indexingLogic.js` file and defining the database schema in the `schema.sql` file based on the extracted function call `finalize_challenged_task`.\", response_metadata={'finish_reason': 'stop'}, id='run-165518f9-4ddf-4458-a74c-ccbc33dd0ba1-0')],\n",
       " 'block_schema': \"[{'args': 'eyJ0YXNrX29yZGluYWwiOjEsInRhc2tfaGFzaCI6WzcyLDcxLDk5LDYsMTkyLDEyNSwxNzksMTE3LDU2LDIyOSwxMzQsMTcxLDE2NCwxMTMsMjAyLDIyNCwxMzQsOTQsMTI4LDE2NCwxNzksMTYsMjYsMjE5LDUsMjEzLDMyLDgwLDEwOCwxNDUsMjQ0LDE2OV19', 'deposit': '0', 'gas': 200000000000000, 'methodName': 'finalize_challenged_task'}]\",\n",
       " 'iterations': 3}"
      ]
     },
     "execution_count": 16,
     "metadata": {},
     "output_type": "execute_result"
    }
   ],
   "source": [
    "result"
   ]
  },
  {
   "cell_type": "code",
   "execution_count": 18,
   "metadata": {},
   "outputs": [
    {
     "data": {
      "image/jpeg": "[encoded data removed]",
      "text/plain": [
       "<IPython.core.display.Image object>"
      ]
     },
     "metadata": {},
     "output_type": "display_data"
    }
   ],
   "source": [
    "# Visualization\n",
    "from IPython.display import Image, display\n",
    "display(Image(app.get_graph(xray=True).draw_mermaid_png()))"
   ]
  },
  {
   "cell_type": "code",
   "execution_count": null,
   "metadata": {},
   "outputs": [],
   "source": []
  }
 ],
 "metadata": {
  "kernelspec": {
   "display_name": "Python 3",
   "language": "python",
   "name": "python3"
  },
  "language_info": {
   "codemirror_mode": {
    "name": "ipython",
    "version": 3
   },
   "file_extension": ".py",
   "mimetype": "text/x-python",
   "name": "python",
   "nbconvert_exporter": "python",
   "pygments_lexer": "ipython3",
   "version": "3.9.6"
  }
 },
 "nbformat": 4,
 "nbformat_minor": 2
}
