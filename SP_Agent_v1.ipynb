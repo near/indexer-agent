{
 "cells": [
  {
   "cell_type": "code",
   "execution_count": 1,
   "metadata": {},
   "outputs": [],
   "source": [
    "%reload_ext autoreload\n",
    "%autoreload 2"
   ]
  },
  {
   "cell_type": "code",
   "execution_count": 2,
   "metadata": {},
   "outputs": [
    {
     "name": "stderr",
     "output_type": "stream",
     "text": [
      "/Users/spark_near/Library/Python/3.9/lib/python/site-packages/urllib3/__init__.py:35: NotOpenSSLWarning: urllib3 v2 only supports OpenSSL 1.1.1+, currently the 'ssl' module is compiled with 'LibreSSL 2.8.3'. See: https://github.com/urllib3/urllib3/issues/3020\n",
      "  warnings.warn(\n"
     ]
    }
   ],
   "source": [
    "# Setup\n",
    "from dotenv import load_dotenv\n",
    "import os\n",
    "from langchain_core.messages import HumanMessage\n",
    "from graph.trivial_agent_graph import IndexerAgentGraphBuilder\n",
    "from agents.IndexerAgent import indexer_agent_model, tool_executor\n",
    "from tools.JavaScriptRunner import tool_js_on_block_schema_func, tool_js_on_block_schema\n",
    "from agents.BlockExtractorAgent import run_js_on_block_only_schema,JsResponse\n",
    "import json\n",
    "\n",
    "# Load .env file\n",
    "load_dotenv('.env')\n",
    "\n",
    "# Set model variables\n",
    "OPENAI_BASE_URL = \"https://api.openai.com/v1\"\n",
    "OPENAI_API_KEY = os.getenv(\"OPENAI_API_KEY\")\n",
    "OPENAI_ORGANIZATION = os.getenv(\"OPENAI_ORGANIZATION\")\n",
    "\n",
    "\n",
    "os.environ[\"LANGCHAIN_TRACING_V2\"] = \"true\"\n",
    "os.environ[\"LANGCHAIN_ENDPOINT\"] = \"https://api.smith.langchain.com\"\n",
    "os.environ[\"LANGCHAIN_API_KEY\"] = os.getenv(\"LANGCHAIN_API_KEY\")\n",
    "os.environ[\"LANGCHAIN_PROJECT\"] = os.getenv(\"LANGCHAIN_PROJECT\")"
   ]
  },
  {
   "cell_type": "code",
   "execution_count": 4,
   "metadata": {},
   "outputs": [],
   "source": [
    "from typing import TypedDict, Sequence\n",
    "from langchain_core.messages import BaseMessage\n",
    "\n",
    "# Define Graphstate\n",
    "class GraphState(TypedDict):\n",
    "    \"\"\"\n",
    "    Represents the state of our graph.\n",
    "\n",
    "    Attributes:\n",
    "        messages: With user questions, tracking plans, reasoning\n",
    "        block_heights: Block heights of the blocks to be parsed\n",
    "        js_code: Javascript code to be run on block schema\n",
    "        block_schema: Extracted block schema from json of blocks \n",
    "        ddl_code: Data Definition Language code for creating tables\n",
    "        dml_code: Data manipulation language code for inserting data using context.db\n",
    "        iterations: Number of tries to generate the code\n",
    "        error: error message if any\n",
    "        should_continue: Binary flag for control flow to indicate whether to continue or not\n",
    "    \"\"\"\n",
    "\n",
    "    messages: Sequence[BaseMessage]\n",
    "    block_heights: Sequence[int]\n",
    "    block_schema: str\n",
    "    js_code: str\n",
    "    ddl_code: str\n",
    "    dml_code: str\n",
    "    iterations: int\n",
    "    error: str\n",
    "    should_continue: bool"
   ]
  },
  {
   "cell_type": "code",
   "execution_count": 18,
   "metadata": {},
   "outputs": [],
   "source": [
    "# Load agents\n",
    "from tools.NearLake import tool_get_block_heights\n",
    "from agents.BlockExtractorAgent import BlockExtractorAgent,block_extractor_agent_model_v2\n",
    "from agents.DDLAgent import DDLCodeAgent,ddl_code_model_v2,DDLResponse\n",
    "from langgraph.prebuilt import ToolExecutor\n",
    "\n",
    "# Block Extractor Agent\n",
    "block_extractor_tools = [tool_js_on_block_schema_func] #, tool_get_block_heights]\n",
    "block_extractor_model = block_extractor_agent_model_v2(block_extractor_tools)\n",
    "block_extractor_agent = BlockExtractorAgent(block_extractor_model,ToolExecutor(block_extractor_tools))\n",
    "\n",
    "# DDL Agent\n",
    "ddl_tools= [] #[tool_js_on_block_schema]\n",
    "ddl_code_agent_model = ddl_code_model_v2(ddl_tools)\n",
    "ddl_code_agent = DDLCodeAgent(ddl_code_agent_model,ToolExecutor(ddl_tools))"
   ]
  },
  {
   "cell_type": "code",
   "execution_count": 19,
   "metadata": {},
   "outputs": [],
   "source": [
    "# Conditional Edge logic\n",
    "def should_block_schema_continue(state):\n",
    "    last_message = state[\"messages\"][-1]\n",
    "    messages = state[\"messages\"]\n",
    "    if hasattr(last_message, 'additional_kwargs'):\n",
    "        if \"tool_calls\" in last_message.additional_kwargs:\n",
    "            return \"continue\"\n",
    "        else:\n",
    "            return \"end\"\n",
    "    else:\n",
    "        return \"end\"\n",
    "    \n",
    "def block_schema_review_continue(state):\n",
    "    should_continue = state['should_continue']\n",
    "    block_schema = state['block_schema']\n",
    "    iterations = state['iterations']\n",
    "    if should_continue == True:\n",
    "        return \"continue\"\n",
    "    elif iterations > 3:\n",
    "        return \"end\"\n",
    "    elif block_schema == \"\":\n",
    "        return \"repeat\"\n",
    "    else:\n",
    "        return \"end\"\n",
    "    "
   ]
  },
  {
   "cell_type": "code",
   "execution_count": 20,
   "metadata": {},
   "outputs": [],
   "source": [
    "## Create Final Graph (will move this to another file ultimately)\n",
    "from langgraph.graph import END, StateGraph\n",
    "\n",
    "workflow = StateGraph(GraphState)\n",
    "\n",
    "## Define the Agent nodes\n",
    "workflow.add_node(\"block_extractor_agent\", block_extractor_agent.call_model)  # Plan the process\n",
    "workflow.add_node(\"ddl_code_agent\", ddl_code_agent.call_model)  # Plan the process\n",
    "\n",
    "## Tool Nodes\n",
    "workflow.add_node(\"get_block_schema\",block_extractor_agent.call_tool)\n",
    "workflow.add_node(\"parse_blocks\",ddl_code_agent.call_tool)\n",
    "\n",
    "## Human Review\n",
    "workflow.add_node(\"review_schema\",block_extractor_agent.human_review)\n",
    "\n",
    "## Add Edges\n",
    "workflow.set_entry_point(\"block_extractor_agent\")\n",
    "workflow.add_edge(\"get_block_schema\", \"review_schema\")\n",
    "workflow.add_edge(\"parse_blocks\", \"ddl_code_agent\")\n",
    "\n",
    "# Add Conditional Edges\n",
    "# Check if all block extraction tools are completed\n",
    "workflow.add_conditional_edges(\n",
    "    \"block_extractor_agent\",\n",
    "    should_block_schema_continue,\n",
    "    {\n",
    "        \"continue\":\"get_block_schema\",\n",
    "        \"end\": \"ddl_code_agent\"\n",
    "    }   \n",
    ")\n",
    "# Check if block schema is correct via human review\n",
    "workflow.add_conditional_edges(\n",
    "    \"review_schema\",\n",
    "    block_schema_review_continue,\n",
    "    {\n",
    "        \"continue\":\"ddl_code_agent\",\n",
    "        \"repeat\": \"block_extractor_agent\",\n",
    "        \"end\": END\n",
    "    }   \n",
    ")\n",
    "# Check if DDL has finished tool calls\n",
    "workflow.add_conditional_edges(\n",
    "    \"ddl_code_agent\",\n",
    "    should_block_schema_continue,\n",
    "    {\n",
    "        \"continue\":\"parse_blocks\",\n",
    "        \"end\": END\n",
    "    }   \n",
    ")\n",
    "\n",
    "app = workflow.compile()"
   ]
  },
  {
   "cell_type": "code",
   "execution_count": 14,
   "metadata": {},
   "outputs": [],
   "source": [
    "# from langchain_core.messages import HumanMessage\n",
    "\n",
    "# question = \"\"\"\n",
    "#     Extract all FunctionCalls where receiverId is 'app.nearcrowd.near'. For each function call, \n",
    "#     I need signerId, block height, receiptId, block datetime, methodName. Also add all fields from \n",
    "#     args that are decoded from base64-encoded JSON. I only need actions for successful receipts.\n",
    "# \"\"\"\n",
    "\n",
    "# result = app.invoke({\"messages\": [HumanMessage(content=question)], \n",
    "#                      \"block_schema\": \"\",\n",
    "#                      \"js_code\":\"\",\n",
    "#                      \"ddl_code\":\"\",\n",
    "#                      \"dml_code\": \"\",\n",
    "#                      \"iterations\": 0,\n",
    "#                      \"error\":\"\",\n",
    "#                      \"should_continue\": False,\n",
    "#                      })\n",
    "\n",
    "# print(result)"
   ]
  },
  {
   "cell_type": "code",
   "execution_count": 14,
   "metadata": {},
   "outputs": [
    {
     "data": {
      "image/jpeg": "[encoded data removed]",
      "text/plain": [
       "<IPython.core.display.Image object>"
      ]
     },
     "metadata": {},
     "output_type": "display_data"
    }
   ],
   "source": [
    "# Visualization\n",
    "from IPython.display import Image, display\n",
    "display(Image(app.get_graph(xray=True).draw_mermaid_png()))"
   ]
  },
  {
   "cell_type": "code",
   "execution_count": 21,
   "metadata": {},
   "outputs": [],
   "source": [
    "def ddl_code_agent_router(state):\n",
    "    ddl_code = state['ddl_code']\n",
    "    iterations = state['iterations']\n",
    "    last_message = state[\"messages\"][-1]\n",
    "    if hasattr(last_message, 'additional_kwargs'):\n",
    "        if \"tool_calls\" in last_message.additional_kwargs:\n",
    "            return \"parse_blocks\"\n",
    "        else:\n",
    "            return \"review_ddl\"\n",
    "    elif iterations > 3:\n",
    "        return \"end\"\n",
    "    elif ddl_code == \"\":\n",
    "        return \"ddl_code_agent\"\n",
    "    else:\n",
    "        return \"end\"\n",
    "\n",
    "## Create DDL Graph\n",
    "from langgraph.graph import END, StateGraph\n",
    "\n",
    "workflow = StateGraph(GraphState)\n",
    "\n",
    "## Define the Agent nodes\n",
    "workflow.add_node(\"ddl_code_agent\", ddl_code_agent.call_model)  # Plan the process\n",
    "\n",
    "## Tool Nodes\n",
    "workflow.add_node(\"parse_blocks\",ddl_code_agent.call_tool)\n",
    "\n",
    "## Human Review\n",
    "workflow.add_node(\"review_ddl\",ddl_code_agent.human_review)\n",
    "\n",
    "## Add Edges\n",
    "workflow.set_entry_point(\"ddl_code_agent\")\n",
    "workflow.add_edge(\"parse_blocks\", \"ddl_code_agent\")\n",
    "workflow.add_edge(\"review_ddl\", END)\n",
    "\n",
    "# Add Conditional Edges\n",
    "# Check if all block extraction tools are completed\n",
    "workflow.add_conditional_edges(\n",
    "    \"ddl_code_agent\",\n",
    "    ddl_code_agent_router,\n",
    "    {\n",
    "        \"parse_blocks\":\"parse_blocks\",\n",
    "        \"review_ddl\":\"review_ddl\",\n",
    "        \"end\": END,\n",
    "    }   \n",
    ")\n",
    "\n",
    "ddl_app = workflow.compile()"
   ]
  },
  {
   "cell_type": "code",
   "execution_count": 22,
   "metadata": {},
   "outputs": [
    {
     "name": "stdout",
     "output_type": "stream",
     "text": [
      "[{\"signerId\": \"app.nearcrowd.near\", \"blockHeight\": 119688212, \"receiptId\": \"BoTzzQ7okeX3o49qRqAuJaBguzy4q6GMySraZQ4HffxB\", \"receipt\": {\"receiptKind\": \"Data\", \"receiptId\": \"BoTzzQ7okeX3o49qRqAuJaBguzy4q6GMySraZQ4HffxB\", \"receiverId\": \"app.nearcrowd.near\", \"predecessorId\": \"app.nearcrowd.near\", \"status\": {\"SuccessValue\": \"\"}, \"executionOutcomeId\": \"BoTzzQ7okeX3o49qRqAuJaBguzy4q6GMySraZQ4HffxB\", \"logs\": []}, \"blockDatetime\": \"2024-05-25T06:05:09.183Z\", \"methodName\": \"finalize_challenged_task\", \"task_ordinal\": 1, \"task_hash\": [72, 71, 99, 6, 192, 125, 179, 117, 56, 229, 134, 171, 164, 113, 202, 224, 134, 94, 128, 164, 179, 16, 26, 219, 5, 213, 32, 80, 108, 145, 244, 169]}]\n"
     ]
    }
   ],
   "source": [
    "from tools.JavaScriptRunner import run_js_on_block_only_schema, run_js_on_block\n",
    "code = \"\"\"\n",
    "function extractData(block) {\n",
    "    const actions = block.actions();\n",
    "    const receipts = block.receipts();\n",
    "    const header = block.header();\n",
    "\n",
    "    const successfulReceipts = receipts.filter(receipt => receipt.status.SuccessValue);\n",
    "    const filteredActions = actions.filter(action => action.receiverId === 'app.nearcrowd.near' && action.operations.some(op => op.FunctionCall));\n",
    "\n",
    "    const result = [];\n",
    "\n",
    "    for (const action of filteredActions) {\n",
    "      for (const operation of action.operations) {\n",
    "        if (operation.FunctionCall) {\n",
    "          const receipt = receipts.find(receipt => receipt.receiptId === action.receiptId);\n",
    "          if (receipt) {\n",
    "            const args = JSON.parse(atob(operation.FunctionCall.args));\n",
    "            result.push({\n",
    "              signerId: action.signerId,\n",
    "              blockHeight: header.height,\n",
    "              receiptId: action.receiptId,\n",
    "              receipt: receipt,\n",
    "              blockDatetime: new Date(parseInt(header.timestampNanosec) / 1000000),\n",
    "              methodName: operation.FunctionCall.methodName,\n",
    "              ...args\n",
    "            });\n",
    "          }\n",
    "        }\n",
    "      }\n",
    "    }\n",
    "\n",
    "    return result;\n",
    "  }\n",
    "  return extractData(block);\n",
    "\"\"\"\n",
    "block_schema = json.dumps(run_js_on_block(119688212, code))\n",
    "print(block_schema)"
   ]
  },
  {
   "cell_type": "code",
   "execution_count": 23,
   "metadata": {},
   "outputs": [
    {
     "name": "stdout",
     "output_type": "stream",
     "text": [
      "{'messages': [HumanMessage(content='\\n    Take this block schema and generate DDL code to create normalized Postgresql tables for the data extracted from the block: [{\"signerId\": \"app.nearcrowd.near\", \"blockHeight\": 119688212, \"receiptId\": \"BoTzzQ7okeX3o49qRqAuJaBguzy4q6GMySraZQ4HffxB\", \"receipt\": {\"receiptKind\": \"Data\", \"receiptId\": \"BoTzzQ7okeX3o49qRqAuJaBguzy4q6GMySraZQ4HffxB\", \"receiverId\": \"app.nearcrowd.near\", \"predecessorId\": \"app.nearcrowd.near\", \"status\": {\"SuccessValue\": \"\"}, \"executionOutcomeId\": \"BoTzzQ7okeX3o49qRqAuJaBguzy4q6GMySraZQ4HffxB\", \"logs\": []}, \"blockDatetime\": \"2024-05-25T06:05:09.183Z\", \"methodName\": \"finalize_challenged_task\", \"task_ordinal\": 1, \"task_hash\": [72, 71, 99, 6, 192, 125, 179, 117, 56, 229, 134, 171, 164, 113, 202, 224, 134, 94, 128, 164, 179, 16, 26, 219, 5, 213, 32, 80, 108, 145, 244, 169]}]\\n'), AIMessage(content='{\\n    \"ddl\": \"CREATE TABLE IF NOT EXISTS block_data (\\\\n    id SERIAL PRIMARY KEY,\\\\n    signer_id VARCHAR(255),\\\\n    block_height BIGINT,\\\\n    receipt_id VARCHAR(255),\\\\n    receipt_kind VARCHAR(255),\\\\n    receiver_id VARCHAR(255),\\\\n    predecessor_id VARCHAR(255),\\\\n    status_success_value VARCHAR(255),\\\\n    execution_outcome_id VARCHAR(255),\\\\n    logs JSONB,\\\\n    block_datetime TIMESTAMP,\\\\n    method_name VARCHAR(255),\\\\n    task_ordinal INTEGER,\\\\n    task_hash BYTEA\\\\n);\"\\n}', response_metadata={'finish_reason': 'stop'}, id='run-cef636f6-2727-4c76-808b-31ebc2208c23-0')], 'block_schema': '', 'js_code': '', 'ddl_code': 'CREATE TABLE IF NOT EXISTS block_data (\\n    id SERIAL PRIMARY KEY,\\n    signer_id VARCHAR(255),\\n    block_height BIGINT,\\n    receipt_id VARCHAR(255),\\n    receipt_kind VARCHAR(255),\\n    receiver_id VARCHAR(255),\\n    predecessor_id VARCHAR(255),\\n    status_success_value VARCHAR(255),\\n    execution_outcome_id VARCHAR(255),\\n    logs JSONB,\\n    block_datetime TIMESTAMP,\\n    method_name VARCHAR(255),\\n    task_ordinal INTEGER,\\n    task_hash BYTEA\\n);', 'dml_code': '', 'iterations': 0, 'error': '', 'should_continue': True}\n"
     ]
    }
   ],
   "source": [
    "from langchain_core.messages import HumanMessage\n",
    "\n",
    "question = f\"\"\"\n",
    "    Take this block schema and generate DDL code to create normalized Postgresql tables for the data extracted from the block: {block_schema}\n",
    "\"\"\"\n",
    "\n",
    "result = ddl_app.invoke({\"messages\": [HumanMessage(content=question)], \n",
    "                     \"block_schema\": \"\",\n",
    "                     \"js_code\":\"\",\n",
    "                     \"ddl_code\":\"\",\n",
    "                     \"dml_code\": \"\",\n",
    "                     \"iterations\": 0,\n",
    "                     \"error\":\"\",\n",
    "                     \"should_continue\": False,\n",
    "                     })\n",
    "\n",
    "print(result)"
   ]
  },
  {
   "cell_type": "code",
   "execution_count": null,
   "metadata": {},
   "outputs": [
    {
     "data": {
      "image/jpeg": "[encoded data removed]",
      "text/plain": [
       "<IPython.core.display.Image object>"
      ]
     },
     "metadata": {},
     "output_type": "display_data"
    }
   ],
   "source": [
    "# Visualization\n",
    "from IPython.display import Image, display\n",
    "display(Image(ddl_app.get_graph(xray=True).draw_mermaid_png()))"
   ]
  },
  {
   "cell_type": "code",
   "execution_count": null,
   "metadata": {},
   "outputs": [],
   "source": []
  }
 ],
 "metadata": {
  "kernelspec": {
   "display_name": "Python 3",
   "language": "python",
   "name": "python3"
  },
  "language_info": {
   "codemirror_mode": {
    "name": "ipython",
    "version": 3
   },
   "file_extension": ".py",
   "mimetype": "text/x-python",
   "name": "python",
   "nbconvert_exporter": "python",
   "pygments_lexer": "ipython3",
   "version": "3.9.6"
  }
 },
 "nbformat": 4,
 "nbformat_minor": 2
}
