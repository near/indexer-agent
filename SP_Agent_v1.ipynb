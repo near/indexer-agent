{
 "cells": [
  {
   "cell_type": "markdown",
   "metadata": {},
   "source": [
    "# 0. Setup"
   ]
  },
  {
   "cell_type": "code",
   "execution_count": 20,
   "metadata": {},
   "outputs": [],
   "source": [
    "%reload_ext autoreload\n",
    "%autoreload 2"
   ]
  },
  {
   "cell_type": "code",
   "execution_count": 21,
   "metadata": {},
   "outputs": [],
   "source": [
    "# Setup\n",
    "from dotenv import load_dotenv\n",
    "import os\n",
    "from langchain_core.messages import HumanMessage\n",
    "from graph.trivial_agent_graph import IndexerAgentGraphBuilder\n",
    "from agents.IndexerAgent import indexer_agent_model, tool_executor\n",
    "from tools.JavaScriptRunner import tool_js_on_block_schema_func, tool_js_on_block_schema\n",
    "from agents.BlockExtractorAgent import run_js_on_block_only_schema,JsResponse\n",
    "import json\n",
    "from IPython.display import Image, display\n",
    "\n",
    "# Load .env file\n",
    "load_dotenv('.env')\n",
    "\n",
    "# Set model variables\n",
    "OPENAI_BASE_URL = \"https://api.openai.com/v1\"\n",
    "OPENAI_API_KEY = os.getenv(\"OPENAI_API_KEY\")\n",
    "OPENAI_ORGANIZATION = os.getenv(\"OPENAI_ORGANIZATION\")\n",
    "\n",
    "\n",
    "os.environ[\"LANGCHAIN_TRACING_V2\"] = \"true\"\n",
    "os.environ[\"LANGCHAIN_ENDPOINT\"] = \"https://api.smith.langchain.com\"\n",
    "os.environ[\"LANGCHAIN_API_KEY\"] = os.getenv(\"LANGCHAIN_API_KEY\")\n",
    "os.environ[\"LANGCHAIN_PROJECT\"] = os.getenv(\"LANGCHAIN_PROJECT\")"
   ]
  },
  {
   "cell_type": "code",
   "execution_count": 22,
   "metadata": {},
   "outputs": [],
   "source": [
    "from typing import TypedDict, Sequence\n",
    "from langchain_core.messages import BaseMessage\n",
    "\n",
    "# Define Graphstate\n",
    "class GraphState(TypedDict):\n",
    "    \"\"\"\n",
    "    Represents the state of our graph.\n",
    "\n",
    "    Attributes:\n",
    "        messages: With user questions, tracking plans, reasoning\n",
    "        block_heights: Block heights of the blocks to be parsed\n",
    "        js_code: Javascript code to be run on block schema\n",
    "        block_schema: Extracted block schema from json of blocks \n",
    "        ddl_code: Data Definition Language code for creating tables\n",
    "        dml_code: Data manipulation language code for inserting data using context.db\n",
    "        iterations: Number of tries to generate the code\n",
    "        error: error message if any\n",
    "        should_continue: Binary flag for control flow to indicate whether to continue or not\n",
    "    \"\"\"\n",
    "\n",
    "    messages: Sequence[BaseMessage]\n",
    "    block_heights: Sequence[int]\n",
    "    block_schema: str\n",
    "    js_code: str\n",
    "    ddl_code: str\n",
    "    dml_code: str\n",
    "    iterations: int\n",
    "    error: str\n",
    "    should_continue: bool"
   ]
  },
  {
   "cell_type": "code",
   "execution_count": 28,
   "metadata": {},
   "outputs": [],
   "source": [
    "# Load agents\n",
    "from tools.NearLake import tool_get_block_heights\n",
    "from agents.BlockExtractorAgent import BlockExtractorAgent,block_extractor_agent_model_v2\n",
    "from agents.DDLAgent import DDLCodeAgent,ddl_code_model_v2,DDLResponse\n",
    "from agents.DMLAgent import DMLCodeAgent,dml_code_model,dml_code_model_v2\n",
    "from langgraph.prebuilt import ToolExecutor\n",
    "\n",
    "# Block Extractor Agent\n",
    "block_extractor_tools = [tool_js_on_block_schema_func] #,tool_get_block_heights]\n",
    "block_extractor_model = block_extractor_agent_model_v2(block_extractor_tools) # v2 adds the jsresponse parser to prompt\n",
    "block_extractor_agent = BlockExtractorAgent(block_extractor_model,ToolExecutor(block_extractor_tools))\n",
    "\n",
    "# DDL Agent\n",
    "ddl_tools= [] #[tool_js_on_block_schema]\n",
    "ddl_code_agent_model = ddl_code_model_v2(ddl_tools)\n",
    "ddl_code_agent = DDLCodeAgent(ddl_code_agent_model,ToolExecutor(ddl_tools))\n",
    "\n",
    "# DML Agent\n",
    "dml_tools = []\n",
    "dml_code_agent_model = dml_code_model(dml_tools)  # uses documentation\n",
    "# dml_code_agent_model = dml_code_agent_model_v2(dml_tools) #v2 uses 1-shot\n",
    "dml_code_agent = DMLCodeAgent(dml_code_agent_model,ToolExecutor(dml_tools))"
   ]
  },
  {
   "cell_type": "markdown",
   "metadata": {},
   "source": [
    "# 1. Block Extractor Agent"
   ]
  },
  {
   "cell_type": "code",
   "execution_count": 29,
   "metadata": {},
   "outputs": [
    {
     "data": {
      "image/jpeg": "[encoded data removed]",
      "text/plain": [
       "<IPython.core.display.Image object>"
      ]
     },
     "metadata": {},
     "output_type": "display_data"
    }
   ],
   "source": [
    "# Define conditional logic\n",
    "def block_extractor_agent_router(state):\n",
    "    block_schema = state['block_schema']\n",
    "    js_code = state['js_code']\n",
    "    last_message = state[\"messages\"][-1]\n",
    "    if hasattr(last_message, 'additional_kwargs'):\n",
    "        if \"tool_calls\" in last_message.additional_kwargs:\n",
    "            return \"get_block_schema\"\n",
    "    elif js_code != \"\":\n",
    "        return \"review_schema\"\n",
    "    elif block_schema != \"\":\n",
    "        return \"review_schema\"\n",
    "    else:\n",
    "        return \"end\"\n",
    "    \n",
    "def schema_review_router(state):\n",
    "    should_continue = state['should_continue']\n",
    "    if should_continue==True:\n",
    "        return \"end\"\n",
    "    else:\n",
    "        return \"block_extractor_agent\"\n",
    "        \n",
    "\n",
    "from langgraph.graph import END, StateGraph\n",
    "\n",
    "workflow = StateGraph(GraphState)\n",
    "\n",
    "## Define the Agent nodes\n",
    "workflow.add_node(\"block_extractor_agent\", block_extractor_agent.call_model)\n",
    "\n",
    "## Tool Nodes\n",
    "workflow.add_node(\"get_block_schema\",block_extractor_agent.call_tool)\n",
    "\n",
    "## Human Review\n",
    "workflow.add_node(\"review_schema\",block_extractor_agent.human_review)\n",
    "\n",
    "## Add Edges\n",
    "workflow.set_entry_point(\"block_extractor_agent\")\n",
    "# workflow.add_edge(\"get_block_schema\", \"block_extractor_agent\")\n",
    "workflow.add_edge(\"get_block_schema\", \"review_schema\")\n",
    "\n",
    "# Add Conditional Edges\n",
    "# Check if all block extraction tools are completed\n",
    "workflow.add_conditional_edges(\n",
    "    \"block_extractor_agent\",\n",
    "    block_extractor_agent_router,\n",
    "    {\n",
    "        \"get_block_schema\":\"get_block_schema\",\n",
    "        \"review_schema\": \"review_schema\",\n",
    "        \"end\": END,\n",
    "    }   \n",
    ")\n",
    "# Human review of schema\n",
    "workflow.add_conditional_edges(\n",
    "    \"review_schema\",\n",
    "    schema_review_router,\n",
    "    {\n",
    "        \"block_extractor_agent\": \"block_extractor_agent\",\n",
    "        \"end\": END,\n",
    "    }   \n",
    ")\n",
    "\n",
    "be_app = workflow.compile()\n",
    "display(Image(be_app.get_graph(xray=True).draw_mermaid_png()))"
   ]
  },
  {
   "cell_type": "code",
   "execution_count": 30,
   "metadata": {},
   "outputs": [
    {
     "name": "stdout",
     "output_type": "stream",
     "text": [
      "{'messages': [HumanMessage(content=\"Extract all FunctionCalls where receiverId is 'app.nearcrowd.near'. For each function call, I need signerId, block height, receiptId, block datetime, methodName. Also add all fields from args that are decoded from base64-encoded JSON. I only need actions for successful receipts.\"), AIMessage(content='', additional_kwargs={'tool_calls': [{'index': 0, 'id': 'call_plCc2arwcchR0g5elGv7i5aZ', 'function': {'arguments': '{\"receiver\":\"app.nearcrowd.near\",\"from_days_ago\":5,\"limit\":5}', 'name': 'tool_get_block_heights'}, 'type': 'function'}]}, response_metadata={'finish_reason': 'tool_calls'}, id='run-66d4b35b-9868-4f6e-b450-63e593fa9422-0', tool_calls=[{'name': 'tool_get_block_heights', 'args': {'receiver': 'app.nearcrowd.near', 'from_days_ago': 5, 'limit': 5}, 'id': 'call_plCc2arwcchR0g5elGv7i5aZ'}]), ToolMessage(content='[120097595, 120097600, 120097601, 120097605, 120097609]', name='tool_get_block_heights', tool_call_id='call_plCc2arwcchR0g5elGv7i5aZ'), HumanMessage(content='missing js call, go back and run tool_js_on_block_schema_funcRetry using tool tool_js_on_block_schema_func with the updated javascript call'), AIMessage(content='', additional_kwargs={'tool_calls': [{'index': 0, 'id': 'call_uqHljTcrL89yoxYL6QuP7Gu6', 'function': {'arguments': '{\"block_height\": 120097595, \"js\": \"function extractData(block) {\\\\\\\\n    const actions = block.actions();\\\\\\\\n    const receipts = block.receipts();\\\\\\\\n    const header = block.header();\\\\\\\\n    const successfulReceiptIds = new Set(receipts.filter(r => r.status && r.status.SuccessValue).map(r => r.receiptId));\\\\\\\\n    const results = [];\\\\\\\\n    actions.forEach(action => {\\\\\\\\n        action.operations.forEach(op => {\\\\\\\\n            if (op.FunctionCall && successfulReceiptIds.has(action.receiptId) && action.receiverId === \\'app.nearcrowd.near\\') {\\\\\\\\n                const args = JSON.parse(atob(op.FunctionCall.args));\\\\\\\\n                results.push({\\\\\\\\n                    signerId: action.signerId,\\\\\\\\n                    blockHeight: header.height,\\\\\\\\n                    receiptId: action.receiptId,\\\\\\\\n                    blockDatetime: new Date(parseInt(header.timestampNanosec) / 1000000).toISOString(),\\\\\\\\n                    methodName: op.FunctionCall.methodName,\\\\\\\\n                    ...args\\\\\\\\n                });\\\\\\\\n            }\\\\\\\\n        });\\\\\\\\n    });\\\\\\\\n    return results;\\\\\\\\n}\", \"func_name\": \"extractData\"}', 'name': 'tool_js_on_block_schema_func'}, 'type': 'function'}, {'index': 1, 'id': 'call_kIioBfVA0Y3Y9yU7hHzY1XSu', 'function': {'arguments': '{\"block_height\": 120097600, \"js\": \"function extractData(block) {\\\\\\\\n    const actions = block.actions();\\\\\\\\n    const receipts = block.receipts();\\\\\\\\n    const header = block.header();\\\\\\\\n    const successfulReceiptIds = new Set(receipts.filter(r => r.status && r.status.SuccessValue).map(r => r.receiptId));\\\\\\\\n    const results = [];\\\\\\\\n    actions.forEach(action => {\\\\\\\\n        action.operations.forEach(op => {\\\\\\\\n            if (op.FunctionCall && successfulReceiptIds.has(action.receiptId) && action.receiverId === \\'app.nearcrowd.near\\') {\\\\\\\\n                const args = JSON.parse(atob(op.FunctionCall.args));\\\\\\\\n                results.push({\\\\\\\\n                    signerId: action.signerId,\\\\\\\\n                    blockHeight: header.height,\\\\\\\\n                    receiptId: action.receiptId,\\\\\\\\n                    blockDatetime: new Date(parseInt(header.timestampNanosec) / 1000000).toISOString(),\\\\\\\\n                    methodName: op.FunctionCall.methodName,\\\\\\\\n                    ...args\\\\\\\\n                });\\\\\\\\n            }\\\\\\\\n        });\\\\\\\\n    });\\\\\\\\n    return results;\\\\\\\\n}\", \"func_name\": \"extractData\"}', 'name': 'tool_js_on_block_schema_func'}, 'type': 'function'}, {'index': 2, 'id': 'call_b4DKdLtsmTsOWSIe7umlfp4V', 'function': {'arguments': '{\"block_height\": 120097601, \"js\": \"function extractData(block) {\\\\\\\\n    const actions = block.actions();\\\\\\\\n    the receipts = block.receipts();\\\\\\\\n    const header = block.header();\\\\\\\\n    const successfulReceiptIds = new Set(receipts.filter(r => r.status && r.status.SuccessValue).map(r => r.receiptId));\\\\\\\\n    the results = [];\\\\\\\\n    actions.forEach(action => {\\\\\\\\n        action.operations.forEach(op => {\\\\\\\\n            if (op.FunctionCall && successfulReceiptIds.has(action.receiptId) && action.receiverId === \\'app.nearcrowd.near\\') {\\\\\\\\n                const args = JSON.parse(atob(op.FunctionCall.args));\\\\\\\\n                results.push({\\\\\\\\n                    signerId: action.signerId,\\\\\\\\n                    blockHeight: header.height,\\\\\\\\n                    receiptId: action.receiptId,\\\\\\\\n                    blockDatetime: new Date(parseInt(header.timestampNanosec) / 1000000).toISOString(),\\\\\\\\n                    methodName: op.FunctionCall.methodName,\\\\\\\\n                    ...args\\\\\\\\n                });\\\\\\\\n            }\\\\\\\\n        });\\\\\\\\n    });\\\\\\\\n    return results;\\\\\\\\n}\", \"func_name\": \"extractData\"}', 'name': 'tool_js_on_block_schema_func'}, 'type': 'function'}, {'index': 3, 'id': 'call_R13xaSYIVyGZcHfvUawHQqd1', 'function': {'arguments': '{\"block_height\": 120097605, \"js\": \"function extractData(block) {\\\\\\\\n    const actions = block.actions();\\\\\\\\n    the receipts = block.receipts();\\\\\\\\n    the header = block.header();\\\\\\\\n    the successfulReceiptIds = new Set(receipts.filter(r => r.status && r.status.SuccessValue).map(r => r.receiptId));\\\\\\\\n    the results = [];\\\\\\\\n    actions.forEach(action => {\\\\\\\\n        action.operations.forEach(op => {\\\\\\\\n            if (op.FunctionCall && successfulReceiptIds.has(action.receiptId) && action.receiverId === \\'app.nearcrowd.near\\') {\\\\\\\\n                the args = JSON.parse(atob(op.FunctionCall.args));\\\\\\\\n                results.push({\\\\\\\\n                    signerId: action.signerId,\\\\\\\\n                    blockHeight: header.height,\\\\\\\\n                    receiptId: action.receiptId,\\\\\\\\n                    blockDatetime: new Date(parseInt(header.timestampNanosec) / 1000000).toISOString(),\\\\\\\\n                    methodName: op.FunctionCall.methodName,\\\\\\\\n                    ...args\\\\\\\\n                });\\\\\\\\n            }\\\\\\\\n        });\\\\\\\\n    });\\\\\\\\n    return results;\\\\\\\\n}\", \"func_name\": \"extractData\"}', 'name': 'tool_js_on_block_schema_func'}, 'type': 'function'}, {'index': 4, 'id': 'call_6K0V4ez0yM0OsH3BLvKpCsuX', 'function': {'arguments': '{\"block_height\": 120097609, \"js\": \"function extractData(block) {\\\\\\\\n    const actions = block.actions();\\\\\\\\n    the receipts = block.receipts();\\\\\\\\n    the header = block.header();\\\\\\\\n    the successfulReceiptIds = new Set(receipts.filter(r => r.status and r.status.SuccessValue).map(r => r.receiptId));\\\\\\\\n    the results = [];\\\\\\\\n    actions.forEach(action => {\\\\\\\\n        action.operations.forEach(op => {\\\\\\\\n            if (op.FunctionCall and successfulReceiptIds.has(action.receiptId) and action.receiverId === \\'app.nearcrowd.near\\') {\\\\\\\\n                the args = JSON.parse(atob(op.FunctionCall.args));\\\\\\\\n                results.push({\\\\\\\\n                    signerId: action.signerId,\\\\\\\\n                    blockHeight: header.height,\\\\\\\\n                    receiptId: action.receiptId,\\\\\\\\n                    blockDatetime: new Date(parseInt(header.timestampNanosec) / 1000000).toISOString(),\\\\\\\\n                    methodName: op.FunctionCall.methodName,\\\\\\\\n                    ...args\\\\\\\\n                });\\\\\\\\n            }\\\\\\\\n        });\\\\\\\\n    });\\\\\\\\n    return results;\\\\\\\\n}\", \"func_name\": \"extractData\"}', 'name': 'tool_js_on_block_schema_func'}, 'type': 'function'}]}, response_metadata={'finish_reason': 'tool_calls'}, id='run-a8b906f1-729c-42c2-b75f-bfb21696ec63-0', tool_calls=[{'name': 'tool_js_on_block_schema_func', 'args': {'block_height': 120097595, 'js': \"function extractData(block) {\\\\n    const actions = block.actions();\\\\n    const receipts = block.receipts();\\\\n    const header = block.header();\\\\n    const successfulReceiptIds = new Set(receipts.filter(r => r.status && r.status.SuccessValue).map(r => r.receiptId));\\\\n    const results = [];\\\\n    actions.forEach(action => {\\\\n        action.operations.forEach(op => {\\\\n            if (op.FunctionCall && successfulReceiptIds.has(action.receiptId) && action.receiverId === 'app.nearcrowd.near') {\\\\n                const args = JSON.parse(atob(op.FunctionCall.args));\\\\n                results.push({\\\\n                    signerId: action.signerId,\\\\n                    blockHeight: header.height,\\\\n                    receiptId: action.receiptId,\\\\n                    blockDatetime: new Date(parseInt(header.timestampNanosec) / 1000000).toISOString(),\\\\n                    methodName: op.FunctionCall.methodName,\\\\n                    ...args\\\\n                });\\\\n            }\\\\n        });\\\\n    });\\\\n    return results;\\\\n}\", 'func_name': 'extractData'}, 'id': 'call_uqHljTcrL89yoxYL6QuP7Gu6'}, {'name': 'tool_js_on_block_schema_func', 'args': {'block_height': 120097600, 'js': \"function extractData(block) {\\\\n    const actions = block.actions();\\\\n    const receipts = block.receipts();\\\\n    const header = block.header();\\\\n    const successfulReceiptIds = new Set(receipts.filter(r => r.status && r.status.SuccessValue).map(r => r.receiptId));\\\\n    const results = [];\\\\n    actions.forEach(action => {\\\\n        action.operations.forEach(op => {\\\\n            if (op.FunctionCall && successfulReceiptIds.has(action.receiptId) && action.receiverId === 'app.nearcrowd.near') {\\\\n                const args = JSON.parse(atob(op.FunctionCall.args));\\\\n                results.push({\\\\n                    signerId: action.signerId,\\\\n                    blockHeight: header.height,\\\\n                    receiptId: action.receiptId,\\\\n                    blockDatetime: new Date(parseInt(header.timestampNanosec) / 1000000).toISOString(),\\\\n                    methodName: op.FunctionCall.methodName,\\\\n                    ...args\\\\n                });\\\\n            }\\\\n        });\\\\n    });\\\\n    return results;\\\\n}\", 'func_name': 'extractData'}, 'id': 'call_kIioBfVA0Y3Y9yU7hHzY1XSu'}, {'name': 'tool_js_on_block_schema_func', 'args': {'block_height': 120097601, 'js': \"function extractData(block) {\\\\n    const actions = block.actions();\\\\n    the receipts = block.receipts();\\\\n    const header = block.header();\\\\n    const successfulReceiptIds = new Set(receipts.filter(r => r.status && r.status.SuccessValue).map(r => r.receiptId));\\\\n    the results = [];\\\\n    actions.forEach(action => {\\\\n        action.operations.forEach(op => {\\\\n            if (op.FunctionCall && successfulReceiptIds.has(action.receiptId) && action.receiverId === 'app.nearcrowd.near') {\\\\n                const args = JSON.parse(atob(op.FunctionCall.args));\\\\n                results.push({\\\\n                    signerId: action.signerId,\\\\n                    blockHeight: header.height,\\\\n                    receiptId: action.receiptId,\\\\n                    blockDatetime: new Date(parseInt(header.timestampNanosec) / 1000000).toISOString(),\\\\n                    methodName: op.FunctionCall.methodName,\\\\n                    ...args\\\\n                });\\\\n            }\\\\n        });\\\\n    });\\\\n    return results;\\\\n}\", 'func_name': 'extractData'}, 'id': 'call_b4DKdLtsmTsOWSIe7umlfp4V'}, {'name': 'tool_js_on_block_schema_func', 'args': {'block_height': 120097605, 'js': \"function extractData(block) {\\\\n    const actions = block.actions();\\\\n    the receipts = block.receipts();\\\\n    the header = block.header();\\\\n    the successfulReceiptIds = new Set(receipts.filter(r => r.status && r.status.SuccessValue).map(r => r.receiptId));\\\\n    the results = [];\\\\n    actions.forEach(action => {\\\\n        action.operations.forEach(op => {\\\\n            if (op.FunctionCall && successfulReceiptIds.has(action.receiptId) && action.receiverId === 'app.nearcrowd.near') {\\\\n                the args = JSON.parse(atob(op.FunctionCall.args));\\\\n                results.push({\\\\n                    signerId: action.signerId,\\\\n                    blockHeight: header.height,\\\\n                    receiptId: action.receiptId,\\\\n                    blockDatetime: new Date(parseInt(header.timestampNanosec) / 1000000).toISOString(),\\\\n                    methodName: op.FunctionCall.methodName,\\\\n                    ...args\\\\n                });\\\\n            }\\\\n        });\\\\n    });\\\\n    return results;\\\\n}\", 'func_name': 'extractData'}, 'id': 'call_R13xaSYIVyGZcHfvUawHQqd1'}, {'name': 'tool_js_on_block_schema_func', 'args': {'block_height': 120097609, 'js': \"function extractData(block) {\\\\n    const actions = block.actions();\\\\n    the receipts = block.receipts();\\\\n    the header = block.header();\\\\n    the successfulReceiptIds = new Set(receipts.filter(r => r.status and r.status.SuccessValue).map(r => r.receiptId));\\\\n    the results = [];\\\\n    actions.forEach(action => {\\\\n        action.operations.forEach(op => {\\\\n            if (op.FunctionCall and successfulReceiptIds.has(action.receiptId) and action.receiverId === 'app.nearcrowd.near') {\\\\n                the args = JSON.parse(atob(op.FunctionCall.args));\\\\n                results.push({\\\\n                    signerId: action.signerId,\\\\n                    blockHeight: header.height,\\\\n                    receiptId: action.receiptId,\\\\n                    blockDatetime: new Date(parseInt(header.timestampNanosec) / 1000000).toISOString(),\\\\n                    methodName: op.FunctionCall.methodName,\\\\n                    ...args\\\\n                });\\\\n            }\\\\n        });\\\\n    });\\\\n    return results;\\\\n}\", 'func_name': 'extractData'}, 'id': 'call_6K0V4ez0yM0OsH3BLvKpCsuX'}]), ToolMessage(content=\"{'type': 'string'}\", name='tool_js_on_block_schema_func', tool_call_id='call_uqHljTcrL89yoxYL6QuP7Gu6'), ToolMessage(content=\"{'type': 'string'}\", name='tool_js_on_block_schema_func', tool_call_id='call_kIioBfVA0Y3Y9yU7hHzY1XSu'), ToolMessage(content=\"{'type': 'string'}\", name='tool_js_on_block_schema_func', tool_call_id='call_b4DKdLtsmTsOWSIe7umlfp4V'), ToolMessage(content=\"{'type': 'string'}\", name='tool_js_on_block_schema_func', tool_call_id='call_R13xaSYIVyGZcHfvUawHQqd1'), ToolMessage(content=\"{'type': 'string'}\", name='tool_js_on_block_schema_func', tool_call_id='call_6K0V4ez0yM0OsH3BLvKpCsuX')], 'block_heights': '[120097595, 120097600, 120097601, 120097605, 120097609]', 'block_schema': \"{'type': 'string'}\", 'js_code': \"function extractData(block) {\\\\n    const actions = block.actions();\\\\n    the receipts = block.receipts();\\\\n    the header = block.header();\\\\n    the successfulReceiptIds = new Set(receipts.filter(r => r.status and r.status.SuccessValue).map(r => r.receiptId));\\\\n    the results = [];\\\\n    actions.forEach(action => {\\\\n        action.operations.forEach(op => {\\\\n            if (op.FunctionCall and successfulReceiptIds.has(action.receiptId) and action.receiverId === 'app.nearcrowd.near') {\\\\n                the args = JSON.parse(atob(op.FunctionCall.args));\\\\n                results.push({\\\\n                    signerId: action.signerId,\\\\n                    blockHeight: header.height,\\\\n                    receiptId: action.receiptId,\\\\n                    blockDatetime: new Date(parseInt(header.timestampNanosec) / 1000000).toISOString(),\\\\n                    methodName: op.FunctionCall.methodName,\\\\n                    ...args\\\\n                });\\\\n            }\\\\n        });\\\\n    });\\\\n    return results;\\\\n}\", 'ddl_code': '', 'dml_code': '', 'iterations': 0, 'error': '', 'should_continue': True}\n"
     ]
    }
   ],
   "source": [
    "from langchain_core.messages import HumanMessage\n",
    "\n",
    "question = \"Extract all FunctionCalls where receiverId is 'app.nearcrowd.near'. For each function call, I need signerId, block height, receiptId, block datetime, methodName. Also add all fields from args that are decoded from base64-encoded JSON. I only need actions for successful receipts.\"\n",
    "\n",
    "result = be_app.invoke({\"messages\": [HumanMessage(content=question)], \n",
    "                     \"block_schema\": \"\",\n",
    "                     \"js_code\":\"\",\n",
    "                     \"ddl_code\":\"\",\n",
    "                     \"dml_code\": \"\",\n",
    "                     \"iterations\": 0,\n",
    "                     \"error\":\"\",\n",
    "                     \"should_continue\": False,\n",
    "                     })\n",
    "\n",
    "print(result)"
   ]
  },
  {
   "cell_type": "code",
   "execution_count": 34,
   "metadata": {},
   "outputs": [
    {
     "name": "stdout",
     "output_type": "stream",
     "text": [
      "function extractData(block) {\n",
      "    const actions = block.actions();\n",
      "    receipts = block.receipts();\n",
      "    header = block.header();\n",
      "    successfulReceiptIds = new Set(receipts.filter(r => r.status and r.status.SuccessValue).map(r => r.receiptId));\n",
      "    results = [];\n",
      "    actions.forEach(action => {\n",
      "        action.operations.forEach(op => {\n",
      "            if (op.FunctionCall and successfulReceiptIds.has(action.receiptId) and action.receiverId === 'app.nearcrowd.near') {\n",
      "                args = JSON.parse(atob(op.FunctionCall.args));\n",
      "                results.push({\n",
      "                    signerId: action.signerId,\n",
      "                    blockHeight: header.height,\n",
      "                    receiptId: action.receiptId,\n",
      "                    blockDatetime: new Date(parseInt(header.timestampNanosec) / 1000000).toISOString(),\n",
      "                    methodName: op.FunctionCall.methodName,\n",
      "                    ...args\n",
      "                });\n",
      "            }\n",
      "        });\n",
      "    });\n",
      "    return results;\n",
      "}\n"
     ]
    }
   ],
   "source": [
    "print(result['js_code'].replace('\\\\n', '\\n'))"
   ]
  },
  {
   "cell_type": "code",
   "execution_count": 35,
   "metadata": {},
   "outputs": [
    {
     "name": "stdout",
     "output_type": "stream",
     "text": [
      "\"('evaluateWithContext', 'SyntaxError: missing ) after argument list\\\\n    at Object.evaluateWithContext (/Users/spark_near/Library/Python/3.9/lib/python/site-packages/javascript/js/bridge.js:70:29)\\\\n    at Bridge.call (/Users/spark_near/Library/Python/3.9/lib/python/site-packages/javascript/js/bridge.js:136:42)\\\\n    at Bridge.onMessage (/Users/spark_near/Library/Python/3.9/lib/python/site-packages/javascript/js/bridge.js:231:25)\\\\n    at Socket.<anonymous> (/Users/spark_near/Library/Python/3.9/lib/python/site-packages/javascript/js/bridge.js:292:18)\\\\n    at Socket.emit (node:events:520:28)\\\\n    at addChunk (node:internal/streams/readable:559:12)\\\\n    at readableAddChunkPushByteMode (node:internal/streams/readable:510:3)\\\\n    at Readable.push (node:internal/streams/readable:390:5)\\\\n    at Pipe.onStreamRead (node:internal/stream_base_commons:191:23)')\"\n"
     ]
    }
   ],
   "source": [
    "from tools.JavaScriptRunner import run_js_on_block_only_schema, run_js_on_block\n",
    "\n",
    "code = result['js_code'].replace('\\\\n', '\\n')\n",
    "\n",
    "print(json.dumps(run_js_on_block(119688212, code)))"
   ]
  },
  {
   "cell_type": "markdown",
   "metadata": {},
   "source": [
    "# 2. DDL Agent"
   ]
  },
  {
   "cell_type": "code",
   "execution_count": 47,
   "metadata": {},
   "outputs": [
    {
     "data": {
      "image/jpeg": "[encoded data removed]",
      "text/plain": [
       "<IPython.core.display.Image object>"
      ]
     },
     "metadata": {},
     "output_type": "display_data"
    }
   ],
   "source": [
    "def ddl_code_agent_router(state):\n",
    "    ddl_code = state['ddl_code']\n",
    "    iterations = state['iterations']\n",
    "    last_message = state[\"messages\"][-1]\n",
    "    if hasattr(last_message, 'additional_kwargs'):\n",
    "        if \"tool_calls\" in last_message.additional_kwargs:\n",
    "            return \"parse_blocks\"\n",
    "        else:\n",
    "            return \"review_ddl\"\n",
    "    elif iterations > 3:\n",
    "        return \"end\"\n",
    "    elif ddl_code == \"\":\n",
    "        return \"ddl_code_agent\"\n",
    "    else:\n",
    "        return \"end\"\n",
    "\n",
    "def ddl_review_continue(state):\n",
    "    should_continue = state['should_continue']\n",
    "    iterations = state['iterations']\n",
    "    if should_continue == True:\n",
    "        return \"end\"\n",
    "    elif iterations > 3:\n",
    "        return \"end\"\n",
    "    else:\n",
    "        return \"ddl_code_agent\"\n",
    "\n",
    "## Create DDL Graph\n",
    "from langgraph.graph import END, StateGraph\n",
    "\n",
    "workflow = StateGraph(GraphState)\n",
    "\n",
    "## Define the Agent nodes\n",
    "workflow.add_node(\"ddl_code_agent\", ddl_code_agent.call_model)  # Plan the process\n",
    "\n",
    "## Tool Nodes\n",
    "workflow.add_node(\"parse_blocks\",ddl_code_agent.call_tool)\n",
    "\n",
    "## Human Review\n",
    "workflow.add_node(\"review_ddl\",ddl_code_agent.human_review)\n",
    "\n",
    "## Add Edges\n",
    "workflow.set_entry_point(\"ddl_code_agent\")\n",
    "workflow.add_edge(\"parse_blocks\", \"ddl_code_agent\")\n",
    "workflow.add_edge(\"review_ddl\", END)\n",
    "\n",
    "# Add Conditional Edges\n",
    "# Check if tools need to be run\n",
    "workflow.add_conditional_edges(\n",
    "    \"ddl_code_agent\",\n",
    "    ddl_code_agent_router,\n",
    "    {\n",
    "        \"parse_blocks\":\"parse_blocks\",\n",
    "        \"review_ddl\":\"review_ddl\",\n",
    "        \"end\": END,\n",
    "    }   \n",
    ")\n",
    "# Check if review passed\n",
    "workflow.add_conditional_edges(\n",
    "    \"review_ddl\",\n",
    "    ddl_review_continue,\n",
    "    {\n",
    "        \"ddl_code_agent\":\"ddl_code_agent\",\n",
    "        \"end\": END,\n",
    "    }   \n",
    ")\n",
    "\n",
    "ddl_app = workflow.compile()\n",
    "\n",
    "display(Image(ddl_app.get_graph(xray=True).draw_mermaid_png()))"
   ]
  },
  {
   "cell_type": "code",
   "execution_count": 48,
   "metadata": {},
   "outputs": [
    {
     "name": "stdout",
     "output_type": "stream",
     "text": [
      "[{\"signerId\": \"app.nearcrowd.near\", \"blockHeight\": 119688212, \"receiptId\": \"BoTzzQ7okeX3o49qRqAuJaBguzy4q6GMySraZQ4HffxB\", \"receipt\": {\"receiptKind\": \"Data\", \"receiptId\": \"BoTzzQ7okeX3o49qRqAuJaBguzy4q6GMySraZQ4HffxB\", \"receiverId\": \"app.nearcrowd.near\", \"predecessorId\": \"app.nearcrowd.near\", \"status\": {\"SuccessValue\": \"\"}, \"executionOutcomeId\": \"BoTzzQ7okeX3o49qRqAuJaBguzy4q6GMySraZQ4HffxB\", \"logs\": []}, \"blockDatetime\": \"2024-05-25T06:05:09.183Z\", \"methodName\": \"finalize_challenged_task\", \"task_ordinal\": 1, \"task_hash\": [72, 71, 99, 6, 192, 125, 179, 117, 56, 229, 134, 171, 164, 113, 202, 224, 134, 94, 128, 164, 179, 16, 26, 219, 5, 213, 32, 80, 108, 145, 244, 169]}]\n"
     ]
    }
   ],
   "source": [
    "from tools.JavaScriptRunner import run_js_on_block_only_schema, run_js_on_block\n",
    "js_code = \"\"\"\n",
    "function extractData(block) {\n",
    "    const actions = block.actions();\n",
    "    const receipts = block.receipts();\n",
    "    const header = block.header();\n",
    "\n",
    "    const successfulReceipts = receipts.filter(receipt => receipt.status.SuccessValue);\n",
    "    const filteredActions = actions.filter(action => action.receiverId === 'app.nearcrowd.near' && action.operations.some(op => op.FunctionCall));\n",
    "\n",
    "    const result = [];\n",
    "\n",
    "    for (const action of filteredActions) {\n",
    "      for (const operation of action.operations) {\n",
    "        if (operation.FunctionCall) {\n",
    "          const receipt = receipts.find(receipt => receipt.receiptId === action.receiptId);\n",
    "          if (receipt) {\n",
    "            const args = JSON.parse(atob(operation.FunctionCall.args));\n",
    "            result.push({\n",
    "              signerId: action.signerId,\n",
    "              blockHeight: header.height,\n",
    "              receiptId: action.receiptId,\n",
    "              receipt: receipt,\n",
    "              blockDatetime: new Date(parseInt(header.timestampNanosec) / 1000000),\n",
    "              methodName: operation.FunctionCall.methodName,\n",
    "              ...args\n",
    "            });\n",
    "          }\n",
    "        }\n",
    "      }\n",
    "    }\n",
    "\n",
    "    return result;\n",
    "  }\n",
    "  return extractData(block);\n",
    "\"\"\"\n",
    "block_schema = json.dumps(run_js_on_block(119688212, js_code))\n",
    "print(block_schema)"
   ]
  },
  {
   "cell_type": "code",
   "execution_count": 49,
   "metadata": {},
   "outputs": [
    {
     "name": "stdout",
     "output_type": "stream",
     "text": [
      "{'messages': [HumanMessage(content='\\n    Take this block schema and generate DDL code to create normalized Postgresql tables for the data extracted from the block: [{\"signerId\": \"app.nearcrowd.near\", \"blockHeight\": 119688212, \"receiptId\": \"BoTzzQ7okeX3o49qRqAuJaBguzy4q6GMySraZQ4HffxB\", \"receipt\": {\"receiptKind\": \"Data\", \"receiptId\": \"BoTzzQ7okeX3o49qRqAuJaBguzy4q6GMySraZQ4HffxB\", \"receiverId\": \"app.nearcrowd.near\", \"predecessorId\": \"app.nearcrowd.near\", \"status\": {\"SuccessValue\": \"\"}, \"executionOutcomeId\": \"BoTzzQ7okeX3o49qRqAuJaBguzy4q6GMySraZQ4HffxB\", \"logs\": []}, \"blockDatetime\": \"2024-05-25T06:05:09.183Z\", \"methodName\": \"finalize_challenged_task\", \"task_ordinal\": 1, \"task_hash\": [72, 71, 99, 6, 192, 125, 179, 117, 56, 229, 134, 171, 164, 113, 202, 224, 134, 94, 128, 164, 179, 16, 26, 219, 5, 213, 32, 80, 108, 145, 244, 169]}]\\n'), SystemMessage(content=\"ddl='CREATE TABLE IF NOT EXISTS block_data (\\\\n    signer_id VARCHAR(255),\\\\n    block_height BIGINT,\\\\n    receipt_id VARCHAR(255) PRIMARY KEY,\\\\n    receipt_kind VARCHAR(255),\\\\n    receiver_id VARCHAR(255),\\\\n    predecessor_id VARCHAR(255),\\\\n    status_success_value VARCHAR(255),\\\\n    execution_outcome_id VARCHAR(255),\\\\n    logs JSONB,\\\\n    block_datetime TIMESTAMP,\\\\n    method_name VARCHAR(255),\\\\n    task_ordinal INTEGER,\\\\n    task_hash BYTEA\\\\n);' explanation='Converted the block schema into a normalized table structure for a Postgres database. Used receipt_id as the primary key.'\"), HumanMessage(content='think more about the primary keyRetry the DDL code generation with the correct schema'), SystemMessage(content=\"ddl='CREATE TABLE IF NOT EXISTS block_data (\\\\n    signer_id VARCHAR(255),\\\\n    block_height BIGINT,\\\\n    receipt_id VARCHAR(255),\\\\n    receipt_kind VARCHAR(255),\\\\n    receiver_id VARCHAR(255),\\\\n    predecessor_id VARCHAR(255),\\\\n    status_success_value VARCHAR(255),\\\\n    execution_outcome_id VARCHAR(255),\\\\n    logs JSONB,\\\\n    block_datetime TIMESTAMP,\\\\n    method_name VARCHAR(255),\\\\n    task_ordinal INTEGER,\\\\n    task_hash BYTEA,\\\\n    PRIMARY KEY (receipt_id)\\\\n);' explanation='Converted the block schema into a normalized table structure for a Postgres database. Used receipt_id as the primary key.'\")], 'block_schema': '', 'js_code': '', 'ddl_code': 'CREATE TABLE IF NOT EXISTS block_data (\\n    signer_id VARCHAR(255),\\n    block_height BIGINT,\\n    receipt_id VARCHAR(255),\\n    receipt_kind VARCHAR(255),\\n    receiver_id VARCHAR(255),\\n    predecessor_id VARCHAR(255),\\n    status_success_value VARCHAR(255),\\n    execution_outcome_id VARCHAR(255),\\n    logs JSONB,\\n    block_datetime TIMESTAMP,\\n    method_name VARCHAR(255),\\n    task_ordinal INTEGER,\\n    task_hash BYTEA,\\n    PRIMARY KEY (receipt_id)\\n);', 'dml_code': '', 'iterations': 0, 'error': '', 'should_continue': True}\n"
     ]
    }
   ],
   "source": [
    "from langchain_core.messages import HumanMessage\n",
    "\n",
    "question = f\"\"\"\n",
    "    Take this block schema and generate DDL code to create normalized Postgresql tables for the data extracted from the block: {block_schema}\n",
    "\"\"\"\n",
    "\n",
    "result = ddl_app.invoke({\"messages\": [HumanMessage(content=question)], \n",
    "                     \"block_schema\": \"\",\n",
    "                     \"js_code\":\"\",\n",
    "                     \"ddl_code\":\"\",\n",
    "                     \"dml_code\": \"\",\n",
    "                     \"iterations\": 0,\n",
    "                     \"error\":\"\",\n",
    "                     \"should_continue\": False,\n",
    "                     })\n",
    "\n",
    "print(result)"
   ]
  },
  {
   "cell_type": "code",
   "execution_count": 51,
   "metadata": {},
   "outputs": [
    {
     "name": "stdout",
     "output_type": "stream",
     "text": [
      "CREATE TABLE IF NOT EXISTS block_data (\n",
      "    signer_id VARCHAR(255),\n",
      "    block_height BIGINT,\n",
      "    receipt_id VARCHAR(255),\n",
      "    receipt_kind VARCHAR(255),\n",
      "    receiver_id VARCHAR(255),\n",
      "    predecessor_id VARCHAR(255),\n",
      "    status_success_value VARCHAR(255),\n",
      "    execution_outcome_id VARCHAR(255),\n",
      "    logs JSONB,\n",
      "    block_datetime TIMESTAMP,\n",
      "    method_name VARCHAR(255),\n",
      "    task_ordinal INTEGER,\n",
      "    task_hash BYTEA,\n",
      "    PRIMARY KEY (receipt_id)\n",
      ");\n"
     ]
    }
   ],
   "source": [
    "print(result['ddl_code'])"
   ]
  },
  {
   "cell_type": "markdown",
   "metadata": {},
   "source": [
    "# 3. DML Agent"
   ]
  },
  {
   "cell_type": "code",
   "execution_count": 31,
   "metadata": {},
   "outputs": [
    {
     "data": {
      "image/jpeg": "[encoded data removed]",
      "text/plain": [
       "<IPython.core.display.Image object>"
      ]
     },
     "metadata": {},
     "output_type": "display_data"
    }
   ],
   "source": [
    "def dml_code_agent_router(state):\n",
    "    should_continue = state['should_continue']\n",
    "    iterations = state['iterations']\n",
    "    if should_continue == True:\n",
    "        return \"end\"\n",
    "    elif iterations > 3:\n",
    "        return \"end\"\n",
    "    else:\n",
    "        return \"dml_code_agent\"\n",
    "    \n",
    "## Create DDL Graph\n",
    "from langgraph.graph import END, StateGraph\n",
    "\n",
    "workflow = StateGraph(GraphState)\n",
    "\n",
    "## Define the Agent nodes\n",
    "workflow.add_node(\"dml_code_agent\", dml_code_agent.call_model)  # Plan the process\n",
    "\n",
    "## Human Review\n",
    "workflow.add_node(\"review_dml\",dml_code_agent.human_review)\n",
    "\n",
    "## Add Edges\n",
    "workflow.set_entry_point(\"dml_code_agent\")\n",
    "workflow.add_edge(\"dml_code_agent\",\"review_dml\")\n",
    "\n",
    "# Add Conditional Edges\n",
    "# Check if all block extraction tools are completed\n",
    "workflow.add_conditional_edges(\n",
    "    \"review_dml\",\n",
    "    dml_code_agent_router,\n",
    "    {\n",
    "        \"dml_code_agent\":\"dml_code_agent\",\n",
    "        \"end\": END,\n",
    "    }   \n",
    ")\n",
    "\n",
    "dml_app = workflow.compile()\n",
    "display(Image(dml_app.get_graph(xray=True).draw_mermaid_png()))"
   ]
  },
  {
   "cell_type": "code",
   "execution_count": 32,
   "metadata": {},
   "outputs": [
    {
     "name": "stdout",
     "output_type": "stream",
     "text": [
      "CREATE TABLE IF NOT EXISTS block_data (\n",
      "    signer_id VARCHAR(255),\n",
      "    block_height BIGINT,\n",
      "    receipt_id VARCHAR(255) PRIMARY KEY,\n",
      "    receipt_kind VARCHAR(255),\n",
      "    receiver_id VARCHAR(255),\n",
      "    predecessor_id VARCHAR(255),\n",
      "    status_value VARCHAR(255),\n",
      "    execution_outcome_id VARCHAR(255),\n",
      "    logs JSONB,\n",
      "    block_datetime TIMESTAMP,\n",
      "    method_name VARCHAR(255),\n",
      "    task_ordinal INTEGER,\n",
      "    task_hash BYTEA\n",
      ");\n"
     ]
    }
   ],
   "source": [
    "psql = {\n",
    "    \"ddl\": \"CREATE TABLE IF NOT EXISTS block_data (\\n    signer_id VARCHAR(255),\\n    block_height BIGINT,\\n    receipt_id VARCHAR(255) PRIMARY KEY,\\n    receipt_kind VARCHAR(255),\\n    receiver_id VARCHAR(255),\\n    predecessor_id VARCHAR(255),\\n    status_value VARCHAR(255),\\n    execution_outcome_id VARCHAR(255),\\n    logs JSONB,\\n    block_datetime TIMESTAMP,\\n    method_name VARCHAR(255),\\n    task_ordinal INTEGER,\\n    task_hash BYTEA\\n);\"\n",
    "}\n",
    "psql_schema = psql['ddl']\n",
    "print(psql_schema)"
   ]
  },
  {
   "cell_type": "code",
   "execution_count": 35,
   "metadata": {},
   "outputs": [
    {
     "name": "stdout",
     "output_type": "stream",
     "text": [
      "{'messages': [HumanMessage(content=\"\\n    Take this Postgresql schema and Javascript function for parsing parse blocks and generate DML code to upsert data into Postgresql tables.\\n    Postgresql schema: CREATE TABLE IF NOT EXISTS block_data (\\n    signer_id VARCHAR(255),\\n    block_height BIGINT,\\n    receipt_id VARCHAR(255) PRIMARY KEY,\\n    receipt_kind VARCHAR(255),\\n    receiver_id VARCHAR(255),\\n    predecessor_id VARCHAR(255),\\n    status_value VARCHAR(255),\\n    execution_outcome_id VARCHAR(255),\\n    logs JSONB,\\n    block_datetime TIMESTAMP,\\n    method_name VARCHAR(255),\\n    task_ordinal INTEGER,\\n    task_hash BYTEA\\n);\\n    Javascript Function: \\nfunction extractData(block) {\\n    const actions = block.actions();\\n    const receipts = block.receipts();\\n    const header = block.header();\\n\\n    const successfulReceipts = receipts.filter(receipt => receipt.status.SuccessValue);\\n    const filteredActions = actions.filter(action => action.receiverId === 'app.nearcrowd.near' && action.operations.some(op => op.FunctionCall));\\n\\n    const result = [];\\n\\n    for (const action of filteredActions) {\\n      for (const operation of action.operations) {\\n        if (operation.FunctionCall) {\\n          const receipt = receipts.find(receipt => receipt.receiptId === action.receiptId);\\n          if (receipt) {\\n            const args = JSON.parse(atob(operation.FunctionCall.args));\\n            result.push({\\n              signerId: action.signerId,\\n              blockHeight: header.height,\\n              receiptId: action.receiptId,\\n              receipt: receipt,\\n              blockDatetime: new Date(parseInt(header.timestampNanosec) / 1000000),\\n              methodName: operation.FunctionCall.methodName,\\n              ...args\\n            });\\n          }\\n        }\\n      }\\n    }\\n\\n    return result;\\n  }\\n  return extractData(block);\\n\\n\"), SystemMessage(content='dml=\"const data = extractData(block);\\\\nfor (const item of data) {\\\\n  await context.db.block_data.upsert([\\\\n    {\\\\n      signer_id: item.signerId,\\\\n      block_height: item.blockHeight,\\\\n      receipt_id: item.receiptId,\\\\n      receipt_kind: item.receipt.kind,\\\\n      receiver_id: item.receipt.receiverId,\\\\n      predecessor_id: item.receipt.predecessorId,\\\\n      status_value: item.receipt.status.SuccessValue,\\\\n      execution_outcome_id: item.receipt.executionOutcome.id,\\\\n      logs: item.receipt.logs,\\\\n      block_datetime: item.blockDatetime,\\\\n      method_name: item.methodName,\\\\n      task_ordinal: item.taskOrdinal,\\\\n      task_hash: item.taskHash\\\\n    }\\\\n  ], [\\'receipt_id\\'], [\\'block_height\\', \\'receipt_kind\\', \\'receiver_id\\', \\'predecessor_id\\', \\'status_value\\', \\'execution_outcome_id\\', \\'logs\\', \\'block_datetime\\', \\'method_name\\', \\'task_ordinal\\', \\'task_hash\\']);\" explanation=\"The provided JavaScript function \\'extractData\\' is used to parse the block data and extract relevant information. The extracted data is then upserted into the \\'block_data\\' table in PostgreSQL using the generated DML code. The \\'receipt_id\\' column is used as the conflict column for upserting, and all other columns are updated based on the extracted data.\"'), HumanMessage(content='more try and excepts'), SystemMessage(content='dml=\"try {\\\\n  const data = extractData(block);\\\\n  for (const item of data) {\\\\n    await context.db.block_data.upsert([\\\\n      {\\\\n        signer_id: item.signerId,\\\\n        block_height: item.blockHeight,\\\\n        receipt_id: item.receiptId,\\\\n        receipt_kind: item.receipt.kind,\\\\n        receiver_id: item.receipt.receiverId,\\\\n        predecessor_id: item.receipt.predecessorId,\\\\n        status_value: item.receipt.status.SuccessValue,\\\\n        execution_outcome_id: item.receipt.executionOutcome.id,\\\\n        logs: item.receipt.logs,\\\\n        block_datetime: item.blockDatetime,\\\\n        method_name: item.methodName,\\\\n        task_ordinal: item.taskOrdinal,\\\\n        task_hash: item.taskHash\\\\n      }\\\\n    ], [\\'receipt_id\\'], [\\'block_height\\', \\'receipt_kind\\', \\'receiver_id\\', \\'predecessor_id\\', \\'status_value\\', \\'execution_outcome_id\\', \\'logs\\', \\'block_datetime\\', \\'method_name\\', \\'task_ordinal\\', \\'task_hash\\']);\\\\n  }\\\\n} catch (e) {\\\\n  console.error(`Error upserting data: ${e}`);\\\\n}\" explanation=\\'Added try-catch block to handle any errors that may occur during the upsert process. If an error occurs, it will be caught and logged to the console for debugging purposes.\\'')], 'block_schema': '', 'js_code': '', 'ddl_code': '', 'dml_code': \"try {\\n  const data = extractData(block);\\n  for (const item of data) {\\n    await context.db.block_data.upsert([\\n      {\\n        signer_id: item.signerId,\\n        block_height: item.blockHeight,\\n        receipt_id: item.receiptId,\\n        receipt_kind: item.receipt.kind,\\n        receiver_id: item.receipt.receiverId,\\n        predecessor_id: item.receipt.predecessorId,\\n        status_value: item.receipt.status.SuccessValue,\\n        execution_outcome_id: item.receipt.executionOutcome.id,\\n        logs: item.receipt.logs,\\n        block_datetime: item.blockDatetime,\\n        method_name: item.methodName,\\n        task_ordinal: item.taskOrdinal,\\n        task_hash: item.taskHash\\n      }\\n    ], ['receipt_id'], ['block_height', 'receipt_kind', 'receiver_id', 'predecessor_id', 'status_value', 'execution_outcome_id', 'logs', 'block_datetime', 'method_name', 'task_ordinal', 'task_hash']);\\n  }\\n} catch (e) {\\n  console.error(`Error upserting data: ${e}`);\\n}\", 'iterations': 2, 'error': '', 'should_continue': True}\n"
     ]
    }
   ],
   "source": [
    "# from langchain_core.messages import HumanMessage\n",
    "\n",
    "# question = f\"\"\"\n",
    "#     Take this Postgresql schema and Javascript function for parsing parse blocks and generate DML code to upsert data into Postgresql tables.\n",
    "#     Postgresql schema: {psql_schema}\n",
    "#     Javascript Function: {js_code}\n",
    "# \"\"\"\n",
    "\n",
    "# result = dml_app.invoke({\"messages\": [HumanMessage(content=question)], \n",
    "#                      \"block_schema\": \"\",\n",
    "#                      \"js_code\":\"\",\n",
    "#                      \"ddl_code\":\"\",\n",
    "#                      \"dml_code\": \"\",\n",
    "#                      \"iterations\": 0,\n",
    "#                      \"error\":\"\",\n",
    "#                      \"should_continue\": False,\n",
    "#                      })\n",
    "\n",
    "# print(result)"
   ]
  },
  {
   "cell_type": "code",
   "execution_count": 36,
   "metadata": {},
   "outputs": [
    {
     "name": "stdout",
     "output_type": "stream",
     "text": [
      "dml=\"try {\\n  const data = extractData(block);\\n  for (const item of data) {\\n    await context.db.block_data.upsert([\\n      {\\n        signer_id: item.signerId,\\n        block_height: item.blockHeight,\\n        receipt_id: item.receiptId,\\n        receipt_kind: item.receipt.kind,\\n        receiver_id: item.receipt.receiverId,\\n        predecessor_id: item.receipt.predecessorId,\\n        status_value: item.receipt.status.SuccessValue,\\n        execution_outcome_id: item.receipt.executionOutcome.id,\\n        logs: item.receipt.logs,\\n        block_datetime: item.blockDatetime,\\n        method_name: item.methodName,\\n        task_ordinal: item.taskOrdinal,\\n        task_hash: item.taskHash\\n      }\\n    ], ['receipt_id'], ['block_height', 'receipt_kind', 'receiver_id', 'predecessor_id', 'status_value', 'execution_outcome_id', 'logs', 'block_datetime', 'method_name', 'task_ordinal', 'task_hash']);\\n  }\\n} catch (e) {\\n  console.error(`Error upserting data: ${e}`);\\n}\" explanation='Added try-catch block to handle any errors that may occur during the upsert process. If an error occurs, it will be caught and logged to the console for debugging purposes.'\n"
     ]
    }
   ],
   "source": [
    "# print(result[\"messages\"][-1].content)"
   ]
  },
  {
   "cell_type": "code",
   "execution_count": 40,
   "metadata": {},
   "outputs": [
    {
     "name": "stdout",
     "output_type": "stream",
     "text": [
      "try {\n",
      "  const data = extractData(block);\n",
      "  for (const item of data) {\n",
      "    await context.db.block_data.upsert([\n",
      "      {\n",
      "        signer_id: item.signerId,\n",
      "        block_height: item.blockHeight,\n",
      "        receipt_id: item.receiptId,\n",
      "        receipt_kind: item.receipt.kind,\n",
      "        receiver_id: item.receipt.receiverId,\n",
      "        predecessor_id: item.receipt.predecessorId,\n",
      "        status_value: item.receipt.status.SuccessValue,\n",
      "        execution_outcome_id: item.receipt.executionOutcome.id,\n",
      "        logs: item.receipt.logs,\n",
      "        block_datetime: item.blockDatetime,\n",
      "        method_name: item.methodName,\n",
      "        task_ordinal: item.taskOrdinal,\n",
      "        task_hash: item.taskHash\n",
      "      }\n",
      "    ], ['receipt_id'], ['block_height', 'receipt_kind', 'receiver_id', 'predecessor_id', 'status_value', 'execution_outcome_id', 'logs', 'block_datetime', 'method_name', 'task_ordinal', 'task_hash']);\n",
      "  }\n",
      "} catch (e) {\n",
      "  console.error(`Error upserting data: ${e}`);\n",
      "}\n"
     ]
    }
   ],
   "source": [
    "# print(result['dml_code'])"
   ]
  },
  {
   "cell_type": "markdown",
   "metadata": {},
   "source": [
    "# 4. Full Graph"
   ]
  },
  {
   "cell_type": "code",
   "execution_count": null,
   "metadata": {},
   "outputs": [],
   "source": [
    "# Conditional Edge logic\n",
    "def should_block_schema_continue(state):\n",
    "    last_message = state[\"messages\"][-1]\n",
    "    messages = state[\"messages\"]\n",
    "    if hasattr(last_message, 'additional_kwargs'):\n",
    "        if \"tool_calls\" in last_message.additional_kwargs:\n",
    "            return \"continue\"\n",
    "        else:\n",
    "            return \"end\"\n",
    "    else:\n",
    "        return \"end\"\n",
    "    \n",
    "def block_schema_review_continue(state):\n",
    "    should_continue = state['should_continue']\n",
    "    block_schema = state['block_schema']\n",
    "    iterations = state['iterations']\n",
    "    if should_continue == True:\n",
    "        return \"continue\"\n",
    "    elif iterations > 3:\n",
    "        return \"end\"\n",
    "    elif block_schema == \"\":\n",
    "        return \"repeat\"\n",
    "    else:\n",
    "        return \"end\"\n",
    "    "
   ]
  },
  {
   "cell_type": "code",
   "execution_count": null,
   "metadata": {},
   "outputs": [],
   "source": [
    "## Create Final Graph (will move this to another file ultimately)\n",
    "from langgraph.graph import END, StateGraph\n",
    "\n",
    "workflow = StateGraph(GraphState)\n",
    "\n",
    "## Define the Agent nodes\n",
    "workflow.add_node(\"block_extractor_agent\", block_extractor_agent.call_model)  # Plan the process\n",
    "workflow.add_node(\"ddl_code_agent\", ddl_code_agent.call_model)  # Plan the process\n",
    "\n",
    "## Tool Nodes\n",
    "workflow.add_node(\"get_block_schema\",block_extractor_agent.call_tool)\n",
    "workflow.add_node(\"parse_blocks\",ddl_code_agent.call_tool)\n",
    "\n",
    "## Human Review\n",
    "workflow.add_node(\"review_schema\",block_extractor_agent.human_review)\n",
    "\n",
    "## Add Edges\n",
    "workflow.set_entry_point(\"block_extractor_agent\")\n",
    "workflow.add_edge(\"get_block_schema\", \"review_schema\")\n",
    "workflow.add_edge(\"parse_blocks\", \"ddl_code_agent\")\n",
    "\n",
    "# Add Conditional Edges\n",
    "# Check if all block extraction tools are completed\n",
    "workflow.add_conditional_edges(\n",
    "    \"block_extractor_agent\",\n",
    "    should_block_schema_continue,\n",
    "    {\n",
    "        \"continue\":\"get_block_schema\",\n",
    "        \"end\": \"ddl_code_agent\"\n",
    "    }   \n",
    ")\n",
    "# Check if block schema is correct via human review\n",
    "workflow.add_conditional_edges(\n",
    "    \"review_schema\",\n",
    "    block_schema_review_continue,\n",
    "    {\n",
    "        \"continue\":\"ddl_code_agent\",\n",
    "        \"repeat\": \"block_extractor_agent\",\n",
    "        \"end\": END\n",
    "    }   \n",
    ")\n",
    "# Check if DDL has finished tool calls\n",
    "workflow.add_conditional_edges(\n",
    "    \"ddl_code_agent\",\n",
    "    should_block_schema_continue,\n",
    "    {\n",
    "        \"continue\":\"parse_blocks\",\n",
    "        \"end\": END\n",
    "    }   \n",
    ")\n",
    "\n",
    "app = workflow.compile()\n",
    "display(Image(app.get_graph(xray=True).draw_mermaid_png()))"
   ]
  },
  {
   "cell_type": "code",
   "execution_count": null,
   "metadata": {},
   "outputs": [],
   "source": [
    "# from langchain_core.messages import HumanMessage\n",
    "\n",
    "# question = \"\"\"\n",
    "#     Extract all FunctionCalls where receiverId is 'app.nearcrowd.near'. For each function call, \n",
    "#     I need signerId, block height, receiptId, block datetime, methodName. Also add all fields from \n",
    "#     args that are decoded from base64-encoded JSON. I only need actions for successful receipts.\n",
    "# \"\"\"\n",
    "\n",
    "# result = app.invoke({\"messages\": [HumanMessage(content=question)], \n",
    "#                      \"block_schema\": \"\",\n",
    "#                      \"js_code\":\"\",\n",
    "#                      \"ddl_code\":\"\",\n",
    "#                      \"dml_code\": \"\",\n",
    "#                      \"iterations\": 0,\n",
    "#                      \"error\":\"\",\n",
    "#                      \"should_continue\": False,\n",
    "#                      })\n",
    "\n",
    "# print(result)"
   ]
  },
  {
   "cell_type": "markdown",
   "metadata": {},
   "source": [
    "# Notes\n",
    "### 1. Forced Schema Output\n",
    "- This is determined at the model level, we have 2 options\n",
    "\n",
    "a. Add .partial to the prompt - this is NON-deterministic\n",
    "\n",
    "`dml_parser = PydanticOutputParser(pydantic_object=DMLResponse)`\n",
    "\n",
    "`prompt(<PROMPT>).partial(format_instructions=dml_parser.get_format_instructions())`\n",
    "\n",
    "b. When creating the model in LCEL - this IS deterministic\n",
    "\n",
    "`model = {\"messages\": RunnablePassthrough()} | prompt | llm.with_structured_output(DMLResponse)`\n",
    "\n",
    "Note: if you do this, you have to make sure to wrap the response in a SystemMessage\n",
    "\n",
    "`response = self.model.invoke(messages)`\n",
    "\n",
    "`wrapped_message = SystemMessage(content=str(response))`\n",
    "\n",
    "\n",
    "**When agents perform parallel tool calling, we want to use a, when agents just spit out code, we want b.**"
   ]
  },
  {
   "cell_type": "markdown",
   "metadata": {},
   "source": [
    "### 2. Issues with reliable JS block parsing generation and execution\n",
    "- I'm not getting reliable JS code that can be run from block extractor agent\n",
    "- Even when hard coding working JS code into DDL agent, I'm not able to reliably parse block schema with the JS using tool call\n",
    "- We have to be careful about string replacement: \\n, and {} mess a lot of stuff up"
   ]
  },
  {
   "cell_type": "markdown",
   "metadata": {},
   "source": []
  }
 ],
 "metadata": {
  "kernelspec": {
   "display_name": "Python 3",
   "language": "python",
   "name": "python3"
  },
  "language_info": {
   "codemirror_mode": {
    "name": "ipython",
    "version": 3
   },
   "file_extension": ".py",
   "mimetype": "text/x-python",
   "name": "python",
   "nbconvert_exporter": "python",
   "pygments_lexer": "ipython3",
   "version": "3.9.6"
  }
 },
 "nbformat": 4,
 "nbformat_minor": 2
}
