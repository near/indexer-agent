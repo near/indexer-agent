{
 "cells": [
  {
   "cell_type": "code",
   "execution_count": 1,
   "metadata": {},
   "outputs": [],
   "source": [
    "%reload_ext autoreload\n",
    "%autoreload 2"
   ]
  },
  {
   "cell_type": "code",
   "execution_count": 2,
   "metadata": {},
   "outputs": [
    {
     "name": "stderr",
     "output_type": "stream",
     "text": [
      "/Users/spark_near/Library/Python/3.9/lib/python/site-packages/urllib3/__init__.py:35: NotOpenSSLWarning: urllib3 v2 only supports OpenSSL 1.1.1+, currently the 'ssl' module is compiled with 'LibreSSL 2.8.3'. See: https://github.com/urllib3/urllib3/issues/3020\n",
      "  warnings.warn(\n"
     ]
    }
   ],
   "source": [
    "# Setup\n",
    "from dotenv import load_dotenv\n",
    "import os\n",
    "from langchain_core.messages import HumanMessage\n",
    "from graph.trivial_agent_graph import IndexerAgentGraphBuilder\n",
    "from agents.IndexerAgent import indexer_agent_model, tool_executor\n",
    "from tools.JavaScriptRunner import tool_js_on_block_schema_func, tool_js_on_block_schema\n",
    "from agents.BlockExtractorAgent import run_js_on_block_only_schema,JsResponse\n",
    "import json\n",
    "\n",
    "# Load .env file\n",
    "load_dotenv('.env')\n",
    "\n",
    "# Set model variables\n",
    "OPENAI_BASE_URL = \"https://api.openai.com/v1\"\n",
    "OPENAI_API_KEY = os.getenv(\"OPENAI_API_KEY\")\n",
    "OPENAI_ORGANIZATION = os.getenv(\"OPENAI_ORGANIZATION\")\n",
    "\n",
    "\n",
    "os.environ[\"LANGCHAIN_TRACING_V2\"] = \"true\"\n",
    "os.environ[\"LANGCHAIN_ENDPOINT\"] = \"https://api.smith.langchain.com\"\n",
    "os.environ[\"LANGCHAIN_API_KEY\"] = os.getenv(\"LANGCHAIN_API_KEY\")\n",
    "os.environ[\"LANGCHAIN_PROJECT\"] = os.getenv(\"LANGCHAIN_PROJECT\")"
   ]
  },
  {
   "cell_type": "code",
   "execution_count": 8,
   "metadata": {},
   "outputs": [],
   "source": [
    "from typing import TypedDict, Sequence\n",
    "from langchain_core.messages import BaseMessage\n",
    "\n",
    "# Define Graphstate\n",
    "class GraphState(TypedDict):\n",
    "    \"\"\"\n",
    "    Represents the state of our graph.\n",
    "\n",
    "    Attributes:\n",
    "        messages: With user questions, tracking plans, reasoning\n",
    "        block_heights: Block heights of the blocks to be parsed\n",
    "        js_code: Javascript code to be run on block schema\n",
    "        block_schema: Extracted block schema from json of blocks \n",
    "        ddl_code: Data Definition Language code for creating tables\n",
    "        dml_code: Data manipulation language code for inserting data using context.db\n",
    "        iterations: Number of tries to generate the code\n",
    "        error: error message if any\n",
    "        should_continue: Binary flag for control flow to indicate whether to continue or not\n",
    "    \"\"\"\n",
    "\n",
    "    messages: Sequence[BaseMessage] #changed from List\n",
    "    block_heights: Sequence[int]\n",
    "    block_schema: str\n",
    "    js_code: str\n",
    "    ddl_code: str\n",
    "    dml_code: str\n",
    "    iterations: int\n",
    "    error: str\n",
    "    should_continue: bool"
   ]
  },
  {
   "cell_type": "code",
   "execution_count": 9,
   "metadata": {},
   "outputs": [],
   "source": [
    "# Load agents\n",
    "from tools.NearLake import tool_get_block_heights\n",
    "from agents.BlockExtractorAgent import BlockExtractorAgent,block_extractor_agent_model\n",
    "from agents.DDLAgent import DDLCodeAgent,ddl_code_model\n",
    "from langgraph.prebuilt import ToolExecutor\n",
    "\n",
    "# Block Extractor Agent\n",
    "block_extractor_tools = [tool_js_on_block_schema_func, tool_get_block_heights]\n",
    "block_extractor_model = block_extractor_agent_model(block_extractor_tools)\n",
    "block_extractor_agent = BlockExtractorAgent(block_extractor_model,ToolExecutor(block_extractor_tools))\n",
    "\n",
    "# DDL Agent\n",
    "ddl_tools=[tool_js_on_block_schema]\n",
    "ddl_code_agent_model = ddl_code_model(ddl_tools)\n",
    "ddl_code_agent = DDLCodeAgent(ddl_code_agent_model,ToolExecutor(ddl_tools))"
   ]
  },
  {
   "cell_type": "code",
   "execution_count": 10,
   "metadata": {},
   "outputs": [],
   "source": [
    "# Conditional Edge logic\n",
    "def should_block_schema_continue(state):\n",
    "    last_message = state[\"messages\"][-1]\n",
    "    # If there are no tool calls, then we finish\n",
    "    if \"tool_calls\" not in last_message.additional_kwargs:\n",
    "        return \"end\"\n",
    "    # If there is a Response tool call, then we finish\n",
    "    elif any(\n",
    "        tool_call[\"function\"][\"name\"] == JsResponse.__name__\n",
    "        for tool_call in last_message.additional_kwargs[\"tool_calls\"]\n",
    "    ):\n",
    "        return \"end\"\n",
    "    # Otherwise, we continue\n",
    "    else:\n",
    "        return \"continue\"   \n",
    "    \n",
    "def block_schema_review_continue(state):\n",
    "    should_continue = state['should_continue']\n",
    "    block_schema = state['block_schema']\n",
    "    iterations = state['iterations']\n",
    "    if should_continue == True:\n",
    "        return \"continue\"\n",
    "    elif iterations > 3:\n",
    "        return \"end\"\n",
    "    elif block_schema == \"\":\n",
    "        return \"repeat\"\n",
    "    else:\n",
    "        return \"end\"\n",
    "    "
   ]
  },
  {
   "cell_type": "code",
   "execution_count": 11,
   "metadata": {},
   "outputs": [],
   "source": [
    "## Create Final Graph (will move this to another file ultimately)\n",
    "from langgraph.graph import END, StateGraph\n",
    "\n",
    "workflow = StateGraph(GraphState)\n",
    "\n",
    "## Define the Agent nodes\n",
    "workflow.add_node(\"block_extractor_agent\", block_extractor_agent.call_model)  # Plan the process\n",
    "workflow.add_node(\"ddl_code_agent\", ddl_code_agent.call_model)  # Plan the process\n",
    "\n",
    "## Tool Nodes\n",
    "workflow.add_node(\"get_block_schema\",block_extractor_agent.call_tool)\n",
    "workflow.add_node(\"parse_blocks\",ddl_code_agent.call_tool)\n",
    "\n",
    "## Human Review\n",
    "workflow.add_node(\"review_schema\",block_extractor_agent.human_review)\n",
    "\n",
    "## Add Edges\n",
    "workflow.set_entry_point(\"block_extractor_agent\")\n",
    "workflow.add_edge(\"get_block_schema\", \"block_extractor_agent\")\n",
    "workflow.add_edge(\"parse_blocks\", \"ddl_code_agent\")\n",
    "\n",
    "# Add Conditional Edges\n",
    "# Check if all block extraction tools are completed\n",
    "workflow.add_conditional_edges(\n",
    "    \"block_extractor_agent\",\n",
    "    should_block_schema_continue,\n",
    "    {\n",
    "        \"continue\":\"get_block_schema\",\n",
    "        \"end\": \"review_schema\"\n",
    "    }   \n",
    ")\n",
    "# Check if block schema is correct via human review\n",
    "workflow.add_conditional_edges(\n",
    "    \"review_schema\",\n",
    "    block_schema_review_continue,\n",
    "    {\n",
    "        \"continue\":\"ddl_code_agent\",\n",
    "        \"repeat\": \"block_extractor_agent\",\n",
    "        \"end\": END\n",
    "    }   \n",
    ")\n",
    "# Check if DDL has finished tool calls\n",
    "workflow.add_conditional_edges(\n",
    "    \"ddl_code_agent\",\n",
    "    should_block_schema_continue,\n",
    "    {\n",
    "        \"continue\":\"parse_blocks\",\n",
    "        \"end\": END\n",
    "    }   \n",
    ")\n",
    "\n",
    "app = workflow.compile()"
   ]
  },
  {
   "cell_type": "code",
   "execution_count": 13,
   "metadata": {},
   "outputs": [],
   "source": [
    "from langchain_core.messages import HumanMessage\n",
    "\n",
    "question = \"\"\"\n",
    "    Extract all FunctionCalls where receiverId is 'app.nearcrowd.near'. For each function call, \n",
    "    I need signerId, block height, receiptId, block datetime, methodName. Also add all fields from \n",
    "    args that are decoded from base64-encoded JSON. I only need actions for successful receipts.\n",
    "\"\"\"\n",
    "\n",
    "result = app.invoke({\"messages\": [HumanMessage(content=question)], \n",
    "                     \"block_schema\": \"\",\n",
    "                     \"js_code\":\"\",\n",
    "                     \"ddl_code\":\"\",\n",
    "                     \"dml_code\": \"\",\n",
    "                     \"iterations\": 0,\n",
    "                     \"error\":\"\",\n",
    "                     \"should_continue\": False,\n",
    "                     })\n",
    "\n",
    "print(result)"
   ]
  },
  {
   "cell_type": "code",
   "execution_count": 10,
   "metadata": {},
   "outputs": [
    {
     "name": "stdout",
     "output_type": "stream",
     "text": [
      "CREATE TABLE result (\n",
      "    id SERIAL PRIMARY KEY,\n",
      "    first_name TEXT,\n",
      "    last_name TEXT,\n",
      "    email TEXT,\n",
      "    gender TEXT,\n",
      "    ip_address TEXT,\n",
      "    city TEXT,\n",
      "    state TEXT,\n",
      "    country TEXT,\n",
      "    language TEXT,\n",
      "    age INTEGER,\n",
      "    credit_card TEXT,\n",
      "    date DATE\n",
      ");\n"
     ]
    }
   ],
   "source": [
    "result['block_schema']"
   ]
  },
  {
   "cell_type": "code",
   "execution_count": 18,
   "metadata": {},
   "outputs": [
    {
     "data": {
      "image/jpeg": "[encoded data removed]",
      "text/plain": [
       "<IPython.core.display.Image object>"
      ]
     },
     "metadata": {},
     "output_type": "display_data"
    }
   ],
   "source": [
    "# Visualization\n",
    "from IPython.display import Image, display\n",
    "display(Image(app.get_graph(xray=True).draw_mermaid_png()))"
   ]
  },
  {
   "cell_type": "code",
   "execution_count": null,
   "metadata": {},
   "outputs": [],
   "source": []
  }
 ],
 "metadata": {
  "kernelspec": {
   "display_name": "Python 3",
   "language": "python",
   "name": "python3"
  },
  "language_info": {
   "codemirror_mode": {
    "name": "ipython",
    "version": 3
   },
   "file_extension": ".py",
   "mimetype": "text/x-python",
   "name": "python",
   "nbconvert_exporter": "python",
   "pygments_lexer": "ipython3",
   "version": "3.9.6"
  }
 },
 "nbformat": 4,
 "nbformat_minor": 2
}
